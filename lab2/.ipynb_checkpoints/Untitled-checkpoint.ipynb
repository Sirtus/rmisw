{
 "cells": [
  {
   "cell_type": "code",
   "execution_count": 15,
   "id": "c3316abe",
   "metadata": {},
   "outputs": [
    {
     "data": {
      "text/plain": [
       "classic_ (generic function with 1 method)"
      ]
     },
     "execution_count": 15,
     "metadata": {},
     "output_type": "execute_result"
    }
   ],
   "source": [
    "function classic_(A, B, C)\n",
    "    sum = 0.0\n",
    "    for i in 1:length(A)\n",
    "       for j in 1:length(A)\n",
    "            sum = 0.0\n",
    "           for k in 1:length(A)\n",
    "               sum += (A[i][k] * B[k][j])\n",
    "            end\n",
    "            C[i][j] = sum\n",
    "        end\n",
    "    end\n",
    "    println(C)\n",
    "end"
   ]
  },
  {
   "cell_type": "code",
   "execution_count": 16,
   "id": "022745bb",
   "metadata": {},
   "outputs": [
    {
     "name": "stdout",
     "output_type": "stream",
     "text": [
      "[[19, 22], [43, 50]]\n"
     ]
    }
   ],
   "source": [
    "classic_([[1,2], [3,4]], [[5,6], [7,8]], [[0,0], [0,0]])"
   ]
  },
  {
   "cell_type": "code",
   "execution_count": 1,
   "id": "4eee7044",
   "metadata": {},
   "outputs": [
    {
     "data": {
      "text/plain": [
       "3-element Vector{Int64}:\n",
       " 2\n",
       " 3\n",
       " 5"
      ]
     },
     "execution_count": 1,
     "metadata": {},
     "output_type": "execute_result"
    }
   ],
   "source": [
    "a = [2, 3, 5]"
   ]
  },
  {
   "cell_type": "code",
   "execution_count": 6,
   "id": "6ac359cd",
   "metadata": {},
   "outputs": [
    {
     "data": {
      "text/plain": [
       "2-element Vector{Vector{Int64}}:\n",
       " [1, 2]\n",
       " [3, 4]"
      ]
     },
     "execution_count": 6,
     "metadata": {},
     "output_type": "execute_result"
    }
   ],
   "source": [
    "b = [[1,2], [3,4]]"
   ]
  },
  {
   "cell_type": "code",
   "execution_count": 8,
   "id": "13fc77e4",
   "metadata": {},
   "outputs": [
    {
     "data": {
      "text/plain": [
       "2-element Vector{Int64}:\n",
       " 1\n",
       " 2"
      ]
     },
     "execution_count": 8,
     "metadata": {},
     "output_type": "execute_result"
    }
   ],
   "source": [
    "b[:][1]"
   ]
  }
 ],
 "metadata": {
  "kernelspec": {
   "display_name": "Julia 1.8.1",
   "language": "julia",
   "name": "julia-1.8"
  },
  "language_info": {
   "file_extension": ".jl",
   "mimetype": "application/julia",
   "name": "julia",
   "version": "1.8.1"
  }
 },
 "nbformat": 4,
 "nbformat_minor": 5
}
