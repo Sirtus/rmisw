{
 "cells": [
  {
   "cell_type": "code",
   "execution_count": 15,
   "id": "e7915181",
   "metadata": {},
   "outputs": [],
   "source": [
    "using LinearAlgebra"
   ]
  },
  {
   "cell_type": "code",
   "execution_count": 24,
   "id": "cfc2f111",
   "metadata": {},
   "outputs": [
    {
     "data": {
      "text/plain": [
       "classic_ (generic function with 1 method)"
      ]
     },
     "execution_count": 24,
     "metadata": {},
     "output_type": "execute_result"
    }
   ],
   "source": [
    "function classic_(A, B, C)\n",
    "    len = size(A,1)\n",
    "    println(C)\n",
    "    for i in 1:len\n",
    "       for j in 1:len\n",
    "           for k in 1:len\n",
    "                C[i, j] += (A[i, k] * B[k, j])\n",
    "            end\n",
    "        end\n",
    "    end\n",
    "    return C\n",
    "end"
   ]
  },
  {
   "cell_type": "code",
   "execution_count": 22,
   "id": "df7e5616",
   "metadata": {},
   "outputs": [
    {
     "data": {
      "text/plain": [
       "multiply_rec (generic function with 1 method)"
      ]
     },
     "execution_count": 22,
     "metadata": {},
     "output_type": "execute_result"
    }
   ],
   "source": [
    "function multiply_rec(A,B)\n",
    "    \n",
    "    if size(A,1) == 2\n",
    "        C = classic_(A, B, C)\n",
    "        return C\n",
    "    end\n",
    "    C = 1.0*zeros(size(A, 1), size(A,1))\n",
    "    len = (size(A,1)÷2)\n",
    "    idx = [ [1:len,1:len],\n",
    "            [1:len,len+1:len*2],\n",
    "            [len+1:len*2,1:len],\n",
    "            [len+1:len*2,len+1:len*2]\n",
    "          ]\n",
    "\n",
    "    C[idx[1][1], idx[1][2]] .= multiply_rec(A[idx[1][1], idx[1][2]], \n",
    "                 B[idx[1][1], idx[1][2]])\n",
    "\n",
    "    C[idx[1][1], idx[1][2]] .= multiply_rec(A[idx[2][1], idx[2][2]], \n",
    "                 B[idx[3][1], idx[3][2]])\n",
    "\n",
    "    C[idx[2][1], idx[2][2]] .= multiply_rec(A[idx[1][1], idx[1][2]], \n",
    "                 B[idx[2][1], idx[2][2]])\n",
    "    C[idx[2][1], idx[2][2]] .= multiply_rec(A[idx[2][1], idx[2][2]], \n",
    "                 B[idx[4][1], idx[4][2]])\n",
    "    \n",
    "    C[idx[3][1], idx[3][2]] .= multiply_rec(A[idx[3][1], idx[3][2]], \n",
    "                 B[idx[1][1], idx[1][2]])\n",
    "    C[idx[3][1], idx[3][2]] .= multiply_rec(A[idx[4][1], idx[4][2]], \n",
    "                 B[idx[3][1], idx[3][2]])\n",
    "    \n",
    "    C[idx[4][1], idx[4][2]] .= multiply_rec(A[idx[3][1], idx[3][2]], \n",
    "                 B[idx[2][1], idx[2][2]])\n",
    "    C[idx[4][1], idx[4][2]] .= multiply_rec(A[idx[4][1], idx[4][2]], \n",
    "                 B[idx[4][1], idx[4][2]])\n",
    "    return C\n",
    "end"
   ]
  },
  {
   "cell_type": "code",
   "execution_count": 129,
   "id": "7d40b3e9",
   "metadata": {},
   "outputs": [
    {
     "data": {
      "text/plain": [
       "inv (generic function with 2 methods)"
      ]
     },
     "execution_count": 129,
     "metadata": {},
     "output_type": "execute_result"
    }
   ],
   "source": [
    "function inv2x2(A)\n",
    "    detA = A[1, 1]*A[2, 2] - A[1, 2]*A[2, 1]\n",
    "    invA = [\n",
    "        A[2, 2] -A[1, 2]\n",
    "        -A[2, 1] A[1, 1]\n",
    "    ]\n",
    "    return (1/detA)*invA\n",
    "end\n",
    "\n",
    "function inv(A)\n",
    "    len    = (size(A,1)÷2)\n",
    "    invA11 = 1*zeros(len, len)\n",
    "    B      = 1*zeros(size(A,1), size(A,1))\n",
    "    S22    = 1*zeros(len, len)\n",
    "    invS22 = 1*zeros(len, len)\n",
    "    \n",
    "    if size(A, 1) == 2\n",
    "        invA = inv2x2(A)\n",
    "        return invA\n",
    "    end\n",
    "    \n",
    "    idx = [ [1:len,1:len],\n",
    "            [1:len,len+1:len*2],\n",
    "            [len+1:len*2,1:len],\n",
    "            [len+1:len*2,len+1:len*2]\n",
    "          ]\n",
    "\n",
    "    invA11= inv(A[idx[1][1], idx[1][2]])\n",
    "    \n",
    "    S22 = A[idx[4][1], idx[4][2]] - \n",
    "            (multiply_rec(\n",
    "                    multiply_rec(A[idx[3][1], idx[3][2]], invA11), A[idx[2][1], idx[2][2]]))\n",
    "    invS22 = inv(S22)\n",
    "    Id = 1.0*Matrix(I, len, len)\n",
    "    \n",
    "    B[idx[1][1], idx[1][2]] = multiply_rec(invA11, \n",
    "    (Id + multiply_rec(multiply_rec(multiply_rec(A[idx[2][1],idx[2][2]], invS22), A[idx[3][1], idx[3][2]]), invA11)))\n",
    "    B[idx[2][1], idx[2][2]] = multiply_rec(multiply_rec(-invA11, A[idx[2][1], idx[2][2]]), invS22)\n",
    "    B[idx[3][1], idx[3][2]] = multiply_rec(multiply_rec(-invS22, A[idx[3][1], idx[3][2]]), invA11)\n",
    "    B[idx[4][1], idx[4][2]] = invS22\n",
    "    \n",
    "    return B\n",
    "end"
   ]
  },
  {
   "cell_type": "code",
   "execution_count": 130,
   "id": "819258f0",
   "metadata": {},
   "outputs": [
    {
     "data": {
      "text/plain": [
       "4×4 Matrix{Float64}:\n",
       "  0.0   -0.5     0.0   0.5\n",
       " -1.5   -0.75   -1.0   2.75\n",
       " -1.0    0.0    -0.0   1.0\n",
       "  2.25   1.125   1.0  -3.625"
      ]
     },
     "execution_count": 130,
     "metadata": {},
     "output_type": "execute_result"
    }
   ],
   "source": [
    "b = [\n",
    "    3.0 4.0 2.0 4.0\n",
    "    1.0 4.0 3.0 4.0\n",
    "    3.0 1.0 3.0 2.0\n",
    "    3.0 4.0 3.0 4.0\n",
    "]\n",
    "\n",
    "invB = inv(b)"
   ]
  },
  {
   "cell_type": "code",
   "execution_count": 125,
   "id": "2817051a",
   "metadata": {},
   "outputs": [
    {
     "name": "stdout",
     "output_type": "stream",
     "text": [
      "[3.0 4.0; 1.0 4.0]\n"
     ]
    },
    {
     "data": {
      "text/plain": [
       "2×2 Matrix{Float64}:\n",
       "  0.5    -0.5\n",
       " -0.125   0.375"
      ]
     },
     "execution_count": 125,
     "metadata": {},
     "output_type": "execute_result"
    }
   ],
   "source": [
    "b = [\n",
    "    3.0 4.0 \n",
    "    1.0 4.0 \n",
    "]\n",
    "println(b[1:2, 1:2])\n",
    "invB = inv(b)"
   ]
  },
  {
   "cell_type": "code",
   "execution_count": 7,
   "id": "c87d9d61",
   "metadata": {},
   "outputs": [
    {
     "name": "stdout",
     "output_type": "stream",
     "text": [
      "[9.0 12.0 9.0 12.0; 9.0 12.0 9.0 12.0; 9.0 12.0 9.0 12.0; 9.0 12.0 9.0 12.0]"
     ]
    }
   ],
   "source": [
    "a = [\n",
    "    1 2 1 2\n",
    "    1 2 1 2\n",
    "    1 2 1 2\n",
    "    1 2 1 2\n",
    "]\n",
    "\n",
    "b = [\n",
    "    3 4 3 4\n",
    "    3 4 3 4\n",
    "    3 4 3 4\n",
    "    3 4 3 4\n",
    "]\n",
    "\n",
    "c = [\n",
    "    0 0 0 0\n",
    "    0 0 0 0\n",
    "    0 0 0 0\n",
    "    0 0 0 0\n",
    "]\n",
    "\n",
    "c = multiply_rec(a, b)\n",
    "print(c)"
   ]
  },
  {
   "cell_type": "code",
   "execution_count": 8,
   "id": "7742c189",
   "metadata": {},
   "outputs": [
    {
     "data": {
      "text/plain": [
       "8×8 Matrix{Float64}:\n",
       " 1.2118    1.36497   0.256996   1.16425   …  0.504388  0.372277   0.419183\n",
       " 0.959581  1.09075   0.197857   0.929673     0.375635  0.300794   0.319439\n",
       " 0.580564  0.710389  0.0908657  0.60203      0.105884  0.212639   0.129457\n",
       " 0.186613  0.199208  0.0458582  0.170673     0.104112  0.0506525  0.0784507\n",
       " 0.427576  0.427866  0.121399   0.368659     0.307257  0.0987055  0.215871\n",
       " 0.429537  0.489846  0.0876555  0.417399  …  0.164311  0.135613   0.140975\n",
       " 0.593488  0.718908  0.0970574  0.609713     0.125786  0.212942   0.141562\n",
       " 1.12448   1.25548   0.24484    1.07163      0.494824  0.338688   0.403056"
      ]
     },
     "execution_count": 8,
     "metadata": {},
     "output_type": "execute_result"
    }
   ],
   "source": [
    "a = rand(8, 8)\n",
    "b = rand(8, 8)\n",
    "\n",
    "multiply_rec(a, b)"
   ]
  },
  {
   "cell_type": "code",
   "execution_count": 9,
   "id": "b3ddb870",
   "metadata": {},
   "outputs": [
    {
     "data": {
      "text/plain": [
       "8×8 Matrix{Float64}:\n",
       " 2.76228   2.92755  1.58445   2.58014  2.49244   2.0066   1.90315   2.63775\n",
       " 2.61181   2.92121  1.7337    2.48828  2.25663   1.86701  2.15903   3.16218\n",
       " 1.79378   2.02128  1.41185   1.832    1.70554   1.76318  1.10391   1.64221\n",
       " 1.43807   1.63513  1.62091   1.30538  1.35435   1.78966  1.75874   2.56031\n",
       " 0.874195  1.04926  0.731739  1.02385  0.920127  1.34033  0.904758  1.45551\n",
       " 1.4786    1.90851  1.17138   1.9684   1.61805   1.95611  1.38655   2.38037\n",
       " 2.34896   2.65146  1.57373   2.34629  2.23483   1.68189  2.26631   3.21807\n",
       " 2.11516   2.43117  1.54102   2.20049  1.97658   2.31077  1.37904   2.09196"
      ]
     },
     "execution_count": 9,
     "metadata": {},
     "output_type": "execute_result"
    }
   ],
   "source": [
    "a*b"
   ]
  },
  {
   "cell_type": "code",
   "execution_count": 13,
   "id": "845f1318",
   "metadata": {},
   "outputs": [
    {
     "data": {
      "text/plain": [
       "4×4 Matrix{Float64}:\n",
       " 0.256105  0.121868  0.140493  0.111485\n",
       " 0.235303  0.107864  0.146491  0.0752903\n",
       " 1.34686   0.6392    0.746096  0.575017\n",
       " 0.559888  0.297027  0.177359  0.446046"
      ]
     },
     "execution_count": 13,
     "metadata": {},
     "output_type": "execute_result"
    }
   ],
   "source": [
    "a = rand(4, 4)\n",
    "b = rand(4, 4)\n",
    "\n",
    "multiply_rec(a, b)"
   ]
  },
  {
   "cell_type": "code",
   "execution_count": 14,
   "id": "d3f2ec82",
   "metadata": {},
   "outputs": [
    {
     "data": {
      "text/plain": [
       "4×4 Matrix{Float64}:\n",
       " 0.402461  0.365485  0.678052  0.798321\n",
       " 0.484559  0.593765  0.927873  1.04369\n",
       " 1.45109   0.817859  1.11917   1.0495\n",
       " 0.865538  0.924609  1.07556   1.54352"
      ]
     },
     "execution_count": 14,
     "metadata": {},
     "output_type": "execute_result"
    }
   ],
   "source": [
    "a*b"
   ]
  },
  {
   "cell_type": "code",
   "execution_count": 25,
   "id": "b3ca1789",
   "metadata": {},
   "outputs": [
    {
     "name": "stdout",
     "output_type": "stream",
     "text": [
      "[0.0 0.0; 0.0 0.0]\n",
      "[0.0 0.0; 0.0 0.0]\n",
      "[0.0 0.0; 0.0 0.0]\n",
      "[0.0 0.0; 0.0 0.0]\n",
      "[0.0 0.0; 0.0 0.0]\n",
      "[0.0 0.0; 0.0 0.0]\n",
      "[0.0 0.0; 0.0 0.0]\n",
      "[0.0 0.0; 0.0 0.0]\n",
      "[9.0 12.0 9.0 12.0; 9.0 12.0 9.0 12.0; 9.0 12.0 9.0 12.0; 9.0 12.0 9.0 12.0]"
     ]
    }
   ],
   "source": [
    "a = [\n",
    "    1 2 1 2\n",
    "    1 2 1 2\n",
    "    1 2 1 2\n",
    "    1 2 1 2\n",
    "]\n",
    "\n",
    "b = [\n",
    "    3 4 3 4\n",
    "    3 4 3 4\n",
    "    3 4 3 4\n",
    "    3 4 3 4\n",
    "]\n",
    "\n",
    "c = [\n",
    "    0 0 0 0\n",
    "    0 0 0 0\n",
    "    0 0 0 0\n",
    "    0 0 0 0\n",
    "]\n",
    "\n",
    "c = multiply_rec(a, b)\n",
    "print(c)"
   ]
  },
  {
   "cell_type": "code",
   "execution_count": 16,
   "id": "a272aa27",
   "metadata": {},
   "outputs": [
    {
     "data": {
      "text/plain": [
       "4×4 Matrix{Int64}:\n",
       " 18  24  18  24\n",
       " 18  24  18  24\n",
       " 18  24  18  24\n",
       " 18  24  18  24"
      ]
     },
     "execution_count": 16,
     "metadata": {},
     "output_type": "execute_result"
    }
   ],
   "source": [
    "a*b"
   ]
  }
 ],
 "metadata": {
  "kernelspec": {
   "display_name": "Julia 1.8.1",
   "language": "julia",
   "name": "julia-1.8"
  },
  "language_info": {
   "file_extension": ".jl",
   "mimetype": "application/julia",
   "name": "julia",
   "version": "1.8.1"
  }
 },
 "nbformat": 4,
 "nbformat_minor": 5
}
