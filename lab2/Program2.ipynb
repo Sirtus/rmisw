{
 "cells": [
  {
   "cell_type": "code",
   "execution_count": 203,
   "id": "cfc2f111",
   "metadata": {},
   "outputs": [
    {
     "data": {
      "text/plain": [
       "classic_ (generic function with 1 method)"
      ]
     },
     "execution_count": 203,
     "metadata": {},
     "output_type": "execute_result"
    }
   ],
   "source": [
    "function classic_(A, B, C)\n",
    "    len = size(A,1)\n",
    "    for i in 1:len\n",
    "       for j in 1:len\n",
    "           for k in 1:len\n",
    "                C[i, j] += (A[i, k] * B[k, j])\n",
    "            end\n",
    "        end\n",
    "    end\n",
    "    return C\n",
    "end"
   ]
  },
  {
   "cell_type": "code",
   "execution_count": 204,
   "id": "df7e5616",
   "metadata": {},
   "outputs": [
    {
     "data": {
      "text/plain": [
       "multiply_rec (generic function with 1 method)"
      ]
     },
     "execution_count": 204,
     "metadata": {},
     "output_type": "execute_result"
    }
   ],
   "source": [
    "function multiply_rec(A,B,C)\n",
    "    if size(A,1) == 2\n",
    "       classic_(A, B, C)\n",
    "        return C\n",
    "    end\n",
    "    len = (size(A,1)÷2)\n",
    "    idx = [ [1:len,1:len],\n",
    "            [1:len,len+1:len*2],\n",
    "            [len+1:len*2,1:len],\n",
    "            [len+1:len*2,len+1:len*2]\n",
    "          ]\n",
    "\n",
    "    C[idx[1][1], idx[1][2]] .= multiply_rec(A[idx[1][1], idx[1][2]], \n",
    "                 B[idx[1][1], idx[1][2]],\n",
    "                 C[idx[1][1], idx[1][2]])\n",
    "\n",
    "    C[idx[1][1], idx[1][2]] .= multiply_rec(A[idx[2][1], idx[2][2]], \n",
    "                 B[idx[3][1], idx[3][2]],\n",
    "                 C[idx[1][1], idx[1][2]])\n",
    "\n",
    "    C[idx[2][1], idx[2][2]] .= multiply_rec(A[idx[1][1], idx[1][2]], \n",
    "                 B[idx[2][1], idx[2][2]],\n",
    "                C[idx[2][1], idx[2][2]])\n",
    "    C[idx[2][1], idx[2][2]] .= multiply_rec(A[idx[2][1], idx[2][2]], \n",
    "                 B[idx[4][1], idx[4][2]],\n",
    "                 C[idx[2][1], idx[2][2]])\n",
    "    \n",
    "    C[idx[3][1], idx[3][2]] .= multiply_rec(A[idx[3][1], idx[3][2]], \n",
    "                 B[idx[1][1], idx[1][2]],\n",
    "                 C[idx[3][1], idx[3][2]])\n",
    "    C[idx[3][1], idx[3][2]] .= multiply_rec(A[idx[4][1], idx[4][2]], \n",
    "                 B[idx[3][1], idx[3][2]],\n",
    "                 C[idx[3][1], idx[3][2]])\n",
    "    \n",
    "    C[idx[4][1], idx[4][2]] .= multiply_rec(A[idx[3][1], idx[3][2]], \n",
    "                 B[idx[2][1], idx[2][2]],\n",
    "                 C[idx[4][1], idx[4][2]])\n",
    "    C[idx[4][1], idx[4][2]] .= multiply_rec(A[idx[4][1], idx[4][2]], \n",
    "                 B[idx[4][1], idx[4][2]],\n",
    "                 C[idx[4][1], idx[4][2]])\n",
    "    return C\n",
    "end"
   ]
  },
  {
   "cell_type": "code",
   "execution_count": 205,
   "id": "c87d9d61",
   "metadata": {},
   "outputs": [
    {
     "name": "stdout",
     "output_type": "stream",
     "text": [
      "[18 24 18 24; 18 24 18 24; 18 24 18 24; 18 24 18 24]"
     ]
    }
   ],
   "source": [
    "a = [\n",
    "    1 2 1 2\n",
    "    1 2 1 2\n",
    "    1 2 1 2\n",
    "    1 2 1 2\n",
    "]\n",
    "\n",
    "b = [\n",
    "    3 4 3 4\n",
    "    3 4 3 4\n",
    "    3 4 3 4\n",
    "    3 4 3 4\n",
    "]\n",
    "\n",
    "c = [\n",
    "    0 0 0 0\n",
    "    0 0 0 0\n",
    "    0 0 0 0\n",
    "    0 0 0 0\n",
    "]\n",
    "\n",
    "c = multiply_rec(a, b, c[:,:])\n",
    "print(c)"
   ]
  }
 ],
 "metadata": {
  "kernelspec": {
   "display_name": "Julia 1.8.1",
   "language": "julia",
   "name": "julia-1.8"
  },
  "language_info": {
   "file_extension": ".jl",
   "mimetype": "application/julia",
   "name": "julia",
   "version": "1.8.1"
  }
 },
 "nbformat": 4,
 "nbformat_minor": 5
}
