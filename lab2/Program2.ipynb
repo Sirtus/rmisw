{
 "cells": [
  {
   "cell_type": "code",
   "execution_count": 1,
   "id": "e7915181",
   "metadata": {},
   "outputs": [],
   "source": [
    "using LinearAlgebra"
   ]
  },
  {
   "cell_type": "code",
   "execution_count": 8,
   "id": "cfc2f111",
   "metadata": {},
   "outputs": [
    {
     "data": {
      "text/plain": [
       "classic_ (generic function with 1 method)"
      ]
     },
     "execution_count": 8,
     "metadata": {},
     "output_type": "execute_result"
    }
   ],
   "source": [
    "function classic_(A, B, C)\n",
    "    len = size(A,1)\n",
    "    for i in 1:len\n",
    "       for j in 1:len\n",
    "           for k in 1:len\n",
    "                C[i, j] += (A[i, k] * B[k, j])\n",
    "            end\n",
    "        end\n",
    "    end\n",
    "    return C\n",
    "end"
   ]
  },
  {
   "cell_type": "code",
   "execution_count": 25,
   "id": "df7e5616",
   "metadata": {},
   "outputs": [
    {
     "data": {
      "text/plain": [
       "multiply_rec (generic function with 1 method)"
      ]
     },
     "execution_count": 25,
     "metadata": {},
     "output_type": "execute_result"
    }
   ],
   "source": [
    "function multiply_rec(A,B,C)\n",
    "    if size(A,1) == 2\n",
    "        C = classic_(A, B, C)\n",
    "        return C\n",
    "    end\n",
    "    len = (size(A,1)÷2)\n",
    "    idx = [ [1:len,1:len],\n",
    "            [1:len,len+1:len*2],\n",
    "            [len+1:len*2,1:len],\n",
    "            [len+1:len*2,len+1:len*2]\n",
    "          ]\n",
    "\n",
    "    C[idx[1][1], idx[1][2]] .= multiply_rec(A[idx[1][1], idx[1][2]], \n",
    "                 B[idx[1][1], idx[1][2]],\n",
    "                 C[idx[1][1], idx[1][2]])\n",
    "\n",
    "    C[idx[1][1], idx[1][2]] .= multiply_rec(A[idx[2][1], idx[2][2]], \n",
    "                 B[idx[3][1], idx[3][2]],\n",
    "                 C[idx[1][1], idx[1][2]])\n",
    "\n",
    "    C[idx[2][1], idx[2][2]] .= multiply_rec(A[idx[1][1], idx[1][2]], \n",
    "                 B[idx[2][1], idx[2][2]],\n",
    "                C[idx[2][1], idx[2][2]])\n",
    "    C[idx[2][1], idx[2][2]] .= multiply_rec(A[idx[2][1], idx[2][2]], \n",
    "                 B[idx[4][1], idx[4][2]],\n",
    "                 C[idx[2][1], idx[2][2]])\n",
    "    \n",
    "    C[idx[3][1], idx[3][2]] .= multiply_rec(A[idx[3][1], idx[3][2]], \n",
    "                 B[idx[1][1], idx[1][2]],\n",
    "                 C[idx[3][1], idx[3][2]])\n",
    "    C[idx[3][1], idx[3][2]] .= multiply_rec(A[idx[4][1], idx[4][2]], \n",
    "                 B[idx[3][1], idx[3][2]],\n",
    "                 C[idx[3][1], idx[3][2]])\n",
    "    \n",
    "    C[idx[4][1], idx[4][2]] .= multiply_rec(A[idx[3][1], idx[3][2]], \n",
    "                 B[idx[2][1], idx[2][2]],\n",
    "                 C[idx[4][1], idx[4][2]])\n",
    "    C[idx[4][1], idx[4][2]] .= multiply_rec(A[idx[4][1], idx[4][2]], \n",
    "                 B[idx[4][1], idx[4][2]],\n",
    "                 C[idx[4][1], idx[4][2]])\n",
    "    return C\n",
    "end"
   ]
  },
  {
   "cell_type": "code",
   "execution_count": 129,
   "id": "7d40b3e9",
   "metadata": {},
   "outputs": [
    {
     "data": {
      "text/plain": [
       "inv (generic function with 2 methods)"
      ]
     },
     "execution_count": 129,
     "metadata": {},
     "output_type": "execute_result"
    }
   ],
   "source": [
    "function inv2x2(A)\n",
    "    detA = A[1, 1]*A[2, 2] - A[1, 2]*A[2, 1]\n",
    "    invA = [\n",
    "        A[2, 2] -A[1, 2]\n",
    "        -A[2, 1] A[1, 1]\n",
    "    ]\n",
    "    return (1/detA)*invA\n",
    "end\n",
    "\n",
    "function inv(A)\n",
    "    len    = (size(A,1)÷2)\n",
    "    invA11 = 1*zeros(len, len)\n",
    "    B      = 1*zeros(size(A,1), size(A,1))\n",
    "    S22    = 1*zeros(len, len)\n",
    "    invS22 = 1*zeros(len, len)\n",
    "    \n",
    "    if size(A, 1) == 2\n",
    "        invA = inv2x2(A)\n",
    "        return invA\n",
    "    end\n",
    "    \n",
    "    idx = [ [1:len,1:len],\n",
    "            [1:len,len+1:len*2],\n",
    "            [len+1:len*2,1:len],\n",
    "            [len+1:len*2,len+1:len*2]\n",
    "          ]\n",
    "\n",
    "    invA11= inv(A[idx[1][1], idx[1][2]])\n",
    "    \n",
    "    S22 = A[idx[4][1], idx[4][2]] - \n",
    "            (multiply_rec(\n",
    "                    multiply_rec(A[idx[3][1], idx[3][2]], invA11), A[idx[2][1], idx[2][2]]))\n",
    "    invS22 = inv(S22)\n",
    "    Id = 1.0*Matrix(I, len, len)\n",
    "    \n",
    "    B[idx[1][1], idx[1][2]] = multiply_rec(invA11, \n",
    "    (Id + multiply_rec(multiply_rec(multiply_rec(A[idx[2][1],idx[2][2]], invS22), A[idx[3][1], idx[3][2]]), invA11)))\n",
    "    B[idx[2][1], idx[2][2]] = multiply_rec(multiply_rec(-invA11, A[idx[2][1], idx[2][2]]), invS22)\n",
    "    B[idx[3][1], idx[3][2]] = multiply_rec(multiply_rec(-invS22, A[idx[3][1], idx[3][2]]), invA11)\n",
    "    B[idx[4][1], idx[4][2]] = invS22\n",
    "    \n",
    "    return B\n",
    "end"
   ]
  },
  {
   "cell_type": "code",
   "execution_count": 130,
   "id": "819258f0",
   "metadata": {},
   "outputs": [
    {
     "data": {
      "text/plain": [
       "4×4 Matrix{Float64}:\n",
       "  0.0   -0.5     0.0   0.5\n",
       " -1.5   -0.75   -1.0   2.75\n",
       " -1.0    0.0    -0.0   1.0\n",
       "  2.25   1.125   1.0  -3.625"
      ]
     },
     "execution_count": 130,
     "metadata": {},
     "output_type": "execute_result"
    }
   ],
   "source": [
    "b = [\n",
    "    3.0 4.0 2.0 4.0\n",
    "    1.0 4.0 3.0 4.0\n",
    "    3.0 1.0 3.0 2.0\n",
    "    3.0 4.0 3.0 4.0\n",
    "]\n",
    "\n",
    "invB = inv(b)"
   ]
  },
  {
   "cell_type": "code",
   "execution_count": 125,
   "id": "2817051a",
   "metadata": {},
   "outputs": [
    {
     "name": "stdout",
     "output_type": "stream",
     "text": [
      "[3.0 4.0; 1.0 4.0]\n"
     ]
    },
    {
     "data": {
      "text/plain": [
       "2×2 Matrix{Float64}:\n",
       "  0.5    -0.5\n",
       " -0.125   0.375"
      ]
     },
     "execution_count": 125,
     "metadata": {},
     "output_type": "execute_result"
    }
   ],
   "source": [
    "b = [\n",
    "    3.0 4.0 \n",
    "    1.0 4.0 \n",
    "]\n",
    "println(b[1:2, 1:2])\n",
    "invB = inv(b)"
   ]
  },
  {
   "cell_type": "code",
   "execution_count": 7,
   "id": "c87d9d61",
   "metadata": {},
   "outputs": [
    {
     "name": "stdout",
     "output_type": "stream",
     "text": [
      "[9.0 12.0 9.0 12.0; 9.0 12.0 9.0 12.0; 9.0 12.0 9.0 12.0; 9.0 12.0 9.0 12.0]"
     ]
    }
   ],
   "source": [
    "a = [\n",
    "    1 2 1 2\n",
    "    1 2 1 2\n",
    "    1 2 1 2\n",
    "    1 2 1 2\n",
    "]\n",
    "\n",
    "b = [\n",
    "    3 4 3 4\n",
    "    3 4 3 4\n",
    "    3 4 3 4\n",
    "    3 4 3 4\n",
    "]\n",
    "\n",
    "c = [\n",
    "    0 0 0 0\n",
    "    0 0 0 0\n",
    "    0 0 0 0\n",
    "    0 0 0 0\n",
    "]\n",
    "\n",
    "c = multiply_rec(a, b)\n",
    "print(c)"
   ]
  },
  {
   "cell_type": "code",
   "execution_count": 23,
   "id": "f238a2fa",
   "metadata": {},
   "outputs": [
    {
     "data": {
      "text/plain": [
       "8×8 Matrix{Float64}:\n",
       " 1.73019   2.39879  1.3719   2.14658  2.04498  2.19401  2.44571  1.90419\n",
       " 1.40316   2.13915  1.36556  1.63464  1.65294  1.85017  2.24554  1.70807\n",
       " 2.12475   3.21503  1.11675  2.4686   2.47648  2.81604  2.99111  2.53573\n",
       " 1.1187    2.64629  1.98468  1.11402  1.89851  2.0483   3.13119  1.65501\n",
       " 1.50045   2.49037  1.27578  1.05489  1.93098  1.96441  2.82401  1.82511\n",
       " 0.711509  1.82084  1.28939  1.67275  1.85281  1.52796  1.92185  1.46344\n",
       " 0.770028  1.5182   1.16382  1.68534  1.4015   1.44134  1.55155  1.17055\n",
       " 1.50353   3.06731  2.11574  2.83961  3.33885  2.47593  3.45483  2.78922"
      ]
     },
     "execution_count": 23,
     "metadata": {},
     "output_type": "execute_result"
    }
   ],
   "source": [
    "a = rand(8, 8)\n",
    "b = rand(8, 8)\n",
    "c = zeros(8, 8)\n",
    "multiply_rec(a, b, c)"
   ]
  },
  {
   "cell_type": "code",
   "execution_count": 24,
   "id": "d2907415",
   "metadata": {},
   "outputs": [
    {
     "data": {
      "text/plain": [
       "8×8 Matrix{Float64}:\n",
       " 1.73019   2.39879  1.3719   2.14658  2.04498  2.19401  2.44571  1.90419\n",
       " 1.40316   2.13915  1.36556  1.63464  1.65294  1.85017  2.24554  1.70807\n",
       " 2.12475   3.21503  1.11675  2.4686   2.47648  2.81604  2.99111  2.53573\n",
       " 1.1187    2.64629  1.98468  1.11402  1.89851  2.0483   3.13119  1.65501\n",
       " 1.50045   2.49037  1.27578  1.05489  1.93098  1.96441  2.82401  1.82511\n",
       " 0.711509  1.82084  1.28939  1.67275  1.85281  1.52796  1.92185  1.46344\n",
       " 0.770028  1.5182   1.16382  1.68534  1.4015   1.44134  1.55155  1.17055\n",
       " 1.50353   3.06731  2.11574  2.83961  3.33885  2.47593  3.45483  2.78922"
      ]
     },
     "execution_count": 24,
     "metadata": {},
     "output_type": "execute_result"
    }
   ],
   "source": [
    "a*b"
   ]
  },
  {
   "cell_type": "code",
   "execution_count": 11,
   "id": "b328c87d",
   "metadata": {},
   "outputs": [
    {
     "data": {
      "text/plain": [
       "4×4 Matrix{Float64}:\n",
       " 0.857214  0.944818  0.780652  0.4998\n",
       " 1.38742   1.19131   0.697611  0.688935\n",
       " 1.33745   1.32616   0.82311   0.667173\n",
       " 1.8459    1.67835   1.07516   0.937895"
      ]
     },
     "execution_count": 11,
     "metadata": {},
     "output_type": "execute_result"
    }
   ],
   "source": [
    "a = rand(4, 4)\n",
    "b = rand(4, 4)\n",
    "c = zeros(4, 4)\n",
    "multiply_rec(a, b, c)"
   ]
  },
  {
   "cell_type": "code",
   "execution_count": 12,
   "id": "0e22a802",
   "metadata": {},
   "outputs": [
    {
     "data": {
      "text/plain": [
       "4×4 Matrix{Float64}:\n",
       " 0.857214  0.944818  0.780652  0.4998\n",
       " 1.38742   1.19131   0.697611  0.688935\n",
       " 1.33745   1.32616   0.82311   0.667173\n",
       " 1.8459    1.67835   1.07516   0.937895"
      ]
     },
     "execution_count": 12,
     "metadata": {},
     "output_type": "execute_result"
    }
   ],
   "source": [
    "a*b"
   ]
  },
  {
   "cell_type": "code",
   "execution_count": 9,
   "id": "6daa7e88",
   "metadata": {},
   "outputs": [
    {
     "name": "stdout",
     "output_type": "stream",
     "text": [
      "[18 24 18 24; 18 24 18 24; 18 24 18 24; 18 24 18 24]"
     ]
    }
   ],
   "source": [
    "a = [\n",
    "    1 2 1 2\n",
    "    1 2 1 2\n",
    "    1 2 1 2\n",
    "    1 2 1 2\n",
    "]\n",
    "\n",
    "b = [\n",
    "    3 4 3 4\n",
    "    3 4 3 4\n",
    "    3 4 3 4\n",
    "    3 4 3 4\n",
    "]\n",
    "\n",
    "c = [\n",
    "    0 0 0 0\n",
    "    0 0 0 0\n",
    "    0 0 0 0\n",
    "    0 0 0 0\n",
    "]\n",
    "\n",
    "c = multiply_rec(a, b, c)\n",
    "print(c)"
   ]
  },
  {
   "cell_type": "code",
   "execution_count": 6,
   "id": "82d9757c",
   "metadata": {},
   "outputs": [
    {
     "data": {
      "text/plain": [
       "4×4 Matrix{Int64}:\n",
       " 18  24  18  24\n",
       " 18  24  18  24\n",
       " 18  24  18  24\n",
       " 18  24  18  24"
      ]
     },
     "execution_count": 6,
     "metadata": {},
     "output_type": "execute_result"
    }
   ],
   "source": [
    "a*b"
   ]
  }
 ],
 "metadata": {
  "kernelspec": {
   "display_name": "Julia 1.8.1",
   "language": "julia",
   "name": "julia-1.8"
  },
  "language_info": {
   "file_extension": ".jl",
   "mimetype": "application/julia",
   "name": "julia",
   "version": "1.8.1"
  }
 },
 "nbformat": 4,
 "nbformat_minor": 5
}
