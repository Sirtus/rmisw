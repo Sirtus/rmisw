{
 "cells": [
  {
   "cell_type": "code",
   "execution_count": 15,
   "id": "436fc3bc",
   "metadata": {},
   "outputs": [],
   "source": [
    "using LinearAlgebra"
   ]
  },
  {
   "cell_type": "code",
   "execution_count": 10,
   "id": "cfc2f111",
   "metadata": {},
   "outputs": [
    {
     "data": {
      "text/plain": [
       "classic_ (generic function with 1 method)"
      ]
     },
     "execution_count": 10,
     "metadata": {},
     "output_type": "execute_result"
    }
   ],
   "source": [
    "function classic_(A, B, C)\n",
    "    len = size(A,1)\n",
    "    for i in 1:len\n",
    "       for j in 1:len\n",
    "           for k in 1:len\n",
    "                C[i, j] += (A[i, k] * B[k, j])\n",
    "            end\n",
    "        end\n",
    "    end\n",
    "    return C\n",
    "end"
   ]
  },
  {
   "cell_type": "code",
   "execution_count": 78,
   "id": "df7e5616",
   "metadata": {},
   "outputs": [
    {
     "data": {
      "text/plain": [
       "multiply_rec (generic function with 2 methods)"
      ]
     },
     "execution_count": 78,
     "metadata": {},
     "output_type": "execute_result"
    }
   ],
   "source": [
    "function multiply_rec(A,B)\n",
    "    C = zeros(size(A, 1), size(A,1))\n",
    "    if size(A,1) == 2\n",
    "       classic_(A, B, C)\n",
    "        return C\n",
    "    end\n",
    "    len = (size(A,1)÷2)\n",
    "    idx = [ [1:len,1:len],\n",
    "            [1:len,len+1:len*2],\n",
    "            [len+1:len*2,1:len],\n",
    "            [len+1:len*2,len+1:len*2]\n",
    "          ]\n",
    "\n",
    "    C[idx[1][1], idx[1][2]] .= multiply_rec(A[idx[1][1], idx[1][2]], \n",
    "                 B[idx[1][1], idx[1][2]],\n",
    "                 C[idx[1][1], idx[1][2]])\n",
    "\n",
    "    C[idx[1][1], idx[1][2]] .= multiply_rec(A[idx[2][1], idx[2][2]], \n",
    "                 B[idx[3][1], idx[3][2]],\n",
    "                 C[idx[1][1], idx[1][2]])\n",
    "\n",
    "    C[idx[2][1], idx[2][2]] .= multiply_rec(A[idx[1][1], idx[1][2]], \n",
    "                 B[idx[2][1], idx[2][2]],\n",
    "                C[idx[2][1], idx[2][2]])\n",
    "    C[idx[2][1], idx[2][2]] .= multiply_rec(A[idx[2][1], idx[2][2]], \n",
    "                 B[idx[4][1], idx[4][2]],\n",
    "                 C[idx[2][1], idx[2][2]])\n",
    "    \n",
    "    C[idx[3][1], idx[3][2]] .= multiply_rec(A[idx[3][1], idx[3][2]], \n",
    "                 B[idx[1][1], idx[1][2]],\n",
    "                 C[idx[3][1], idx[3][2]])\n",
    "    C[idx[3][1], idx[3][2]] .= multiply_rec(A[idx[4][1], idx[4][2]], \n",
    "                 B[idx[3][1], idx[3][2]],\n",
    "                 C[idx[3][1], idx[3][2]])\n",
    "    \n",
    "    C[idx[4][1], idx[4][2]] .= multiply_rec(A[idx[3][1], idx[3][2]], \n",
    "                 B[idx[2][1], idx[2][2]],\n",
    "                 C[idx[4][1], idx[4][2]])\n",
    "    C[idx[4][1], idx[4][2]] .= multiply_rec(A[idx[4][1], idx[4][2]], \n",
    "                 B[idx[4][1], idx[4][2]],\n",
    "                 C[idx[4][1], idx[4][2]])\n",
    "    return C\n",
    "end"
   ]
  },
  {
   "cell_type": "code",
   "execution_count": 123,
   "id": "f68c1494",
   "metadata": {},
   "outputs": [
    {
     "data": {
      "text/plain": [
       "inv (generic function with 2 methods)"
      ]
     },
     "execution_count": 123,
     "metadata": {},
     "output_type": "execute_result"
    }
   ],
   "source": [
    "function inv2x2(A)\n",
    "    detA = A[1, 1]*A[2, 2] - A[1, 2]*A[2, 1]\n",
    "    invA = [\n",
    "        A[2, 2] -A[1, 2]\n",
    "        -A[2, 1] A[1, 1]\n",
    "    ]\n",
    "    return (1/detA)*invA\n",
    "end\n",
    "\n",
    "function inv(A)\n",
    "    len    = (size(A,1)÷2)\n",
    "    invA11 = 1*zeros(len, len)\n",
    "    B      = 1*zeros(size(A,1), size(A,1))\n",
    "    S22    = 1*zeros(len, len)\n",
    "    invS22 = 1*zeros(len, len)\n",
    "    \n",
    "    if size(A, 1) == 2\n",
    "        invA = inv2x2(A)\n",
    "        return invA\n",
    "    end\n",
    "    \n",
    "    idx = [ [1:len,1:len],\n",
    "            [1:len,len+1:len*2],\n",
    "            [len+1:len*2,1:len],\n",
    "            [len+1:len*2,len+1:len*2]\n",
    "          ]\n",
    "\n",
    "    invA11= inv(A[idx[1][1], idx[1][2]])\n",
    "    \n",
    "    S22 = A[idx[4][1], idx[4][2]] - \n",
    "            (multiply_rec(\n",
    "                    multiply_rec(A[idx[3][1], idx[3][2]], invA11), A[idx[2][1], idx[2][2]]))\n",
    "    invS22 = inv(S22)\n",
    "    Id = 1.0*Matrix(I, len, len)\n",
    "    \n",
    "    B[idx[1][1], idx[1][2]] = multiply_rec(invA11, \n",
    "    (Id + multiply_rec(multiply_rec(multiply_rec(A[idx[2][1],idx[2][2]], invS22), A[idx[3][1], idx[3][2]]), invA11)))\n",
    "    B[idx[2][1], idx[2][2]] = multiply_rec(multiply_rec(-invA11, A[idx[2][1], idx[2][2]]), invS22)\n",
    "    B[idx[3][1], idx[3][2]] = multiply_rec(multiply_rec(-invS22, A[idx[3][1], idx[3][2]]), invA11)\n",
    "    B[idx[4][1], idx[4][2]] = invS22\n",
    "    \n",
    "    return B\n",
    "end"
   ]
  },
  {
   "cell_type": "code",
   "execution_count": 124,
   "id": "4af26ef5",
   "metadata": {},
   "outputs": [
    {
     "data": {
      "text/plain": [
       "4×4 Matrix{Float64}:\n",
       "  0.0   -0.5     0.0   0.5\n",
       " -1.5   -0.75   -1.0   2.75\n",
       " -1.0    0.0    -0.0   1.0\n",
       "  2.25   1.125   1.0  -3.625"
      ]
     },
     "execution_count": 124,
     "metadata": {},
     "output_type": "execute_result"
    }
   ],
   "source": [
    "b = [\n",
    "    3.0 4.0 2.0 4.0\n",
    "    1.0 4.0 3.0 4.0\n",
    "    3.0 1.0 3.0 2.0\n",
    "    3.0 4.0 3.0 4.0\n",
    "]\n",
    "\n",
    "invB = inv(b)"
   ]
  },
  {
   "cell_type": "code",
   "execution_count": 125,
   "id": "c37989e2",
   "metadata": {},
   "outputs": [
    {
     "name": "stdout",
     "output_type": "stream",
     "text": [
      "[3.0 4.0; 1.0 4.0]\n"
     ]
    },
    {
     "data": {
      "text/plain": [
       "2×2 Matrix{Float64}:\n",
       "  0.5    -0.5\n",
       " -0.125   0.375"
      ]
     },
     "execution_count": 125,
     "metadata": {},
     "output_type": "execute_result"
    }
   ],
   "source": [
    "b = [\n",
    "    3.0 4.0 \n",
    "    1.0 4.0 \n",
    "]\n",
    "println(b[1:2, 1:2])\n",
    "invB = inv(b)"
   ]
  },
  {
   "cell_type": "code",
   "execution_count": 81,
   "id": "c87d9d61",
   "metadata": {},
   "outputs": [
    {
     "name": "stdout",
     "output_type": "stream",
     "text": [
      "[18.0 24.0 18.0 24.0; 18.0 24.0 18.0 24.0; 18.0 24.0 18.0 24.0; 18.0 24.0 18.0 24.0]"
     ]
    }
   ],
   "source": [
    "a = [\n",
    "    1 2 1 2\n",
    "    1 2 1 2\n",
    "    1 2 1 2\n",
    "    1 2 1 2\n",
    "]\n",
    "\n",
    "b = [\n",
    "    3 4 3 4\n",
    "    3 4 3 4\n",
    "    3 4 3 4\n",
    "    3 4 3 4\n",
    "]\n",
    "\n",
    "c = [\n",
    "    0 0 0 0\n",
    "    0 0 0 0\n",
    "    0 0 0 0\n",
    "    0 0 0 0\n",
    "]\n",
    "\n",
    "c = multiply_rec(a, b)\n",
    "print(c)"
   ]
  }
 ],
 "metadata": {
  "kernelspec": {
   "display_name": "Julia 1.8.1",
   "language": "julia",
   "name": "julia-1.8"
  },
  "language_info": {
   "file_extension": ".jl",
   "mimetype": "application/julia",
   "name": "julia",
   "version": "1.8.1"
  }
 },
 "nbformat": 4,
 "nbformat_minor": 5
}
