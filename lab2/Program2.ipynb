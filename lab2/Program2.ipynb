{
 "cells": [
  {
   "cell_type": "code",
   "execution_count": 2,
   "metadata": {},
   "outputs": [
    {
     "data": {
      "text/plain": [
       "classic_ (generic function with 1 method)"
      ]
     },
     "execution_count": 2,
     "metadata": {},
     "output_type": "execute_result"
    }
   ],
   "source": [
    "function classic_(A, B, C)\n",
    "    sum = 0.0\n",
    "    for i in 1:length(A)\n",
    "       for j in 1:length(A)\n",
    "            sum = 0.0\n",
    "           for k in 1:length(A)\n",
    "               sum += (A[i][k] * B[k][j])\n",
    "            end\n",
    "            C[i][j] += sum\n",
    "        end\n",
    "    end\n",
    "end"
   ]
  },
  {
   "cell_type": "code",
   "execution_count": 65,
   "metadata": {},
   "outputs": [
    {
     "data": {
      "text/plain": [
       "multiply_rec (generic function with 1 method)"
      ]
     },
     "execution_count": 65,
     "metadata": {},
     "output_type": "execute_result"
    }
   ],
   "source": [
    "function multiply_rec(A,B,C)\n",
    "    println(A)\n",
    "    if length(A) == 2\n",
    "       classic_(A, B, C)\n",
    "        return 0\n",
    "    end\n",
    "    size = (length(A)÷2)\n",
    "    idx = [[1,1],[1,size+1],[size+1,1],[size+1,size+1]]\n",
    "#     println(A[idx[1][1]:idx[1][1]+size][idx[1][1]:idx[1][1]+size])\n",
    "#     println(\"sdf\")\n",
    "    println(\"LEN: \", length(A), \" SIZE: \", size)\n",
    "    println(idx[2][2],\" \",idx[2][2]+size-1)\n",
    "    println(idx[2][1],\" \",idx[2][1]+size-1)\n",
    "#     multiply_rec(A[idx[1][1]:idx[1][1]+size-1][idx[1][2]:idx[1][2]+size-1], \n",
    "#                  B[idx[1][1]:idx[1][1]+size-1][idx[1][2]:idx[1][2]+size-1],\n",
    "#                  C[idx[1][1]:idx[1][1]+size-1][idx[1][2]:idx[1][2]+size-1])\n",
    "#     println(\"LEN2: \", A[idx[2][1]:idx[2][1]+size][idx[2][2]:idx[2][2]+size])\n",
    "    println(\"SDF \", A[idx[2][1]:idx[2][1]+size-1])\n",
    "    multiply_rec(A[idx[2][1]:idx[2][1]+size-1][idx[2][2]:idx[2][2]+size-1], \n",
    "                 B[idx[3][1]:idx[3][1]+size-1][idx[3][2]:idx[3][2]+size-1],\n",
    "                 C[idx[1][1]:idx[1][1]+size-1][idx[1][2]:idx[1][2]+size-1])\n",
    "\n",
    "#     multiply_rec(A[idx[1]:idx[1]+size][idx[1]:idx[1]+size], B[idx[2]:idx[2]+size][idx[2]:idx[2]+size],\n",
    "#                  C[idx[2]:idx[2]+size][idx[2]:idx[2]+size])\n",
    "#     multiply_rec(A[idx[2]:idx[2]+size][idx[2]:idx[2]+size], B[idx[4]:idx[4]+size][idx[4]:idx[4]+size],\n",
    "#                  C[idx[2]:idx[2]+size][idx[2]:idx[2]+size])\n",
    "    \n",
    "#     multiply_rec(A[idx[3]:idx[3]+size][idx[3]:idx[3]+size], B[idx[1]:idx[1]+size][idx[1]:idx[1]+size],\n",
    "#                  C[idx[3]:idx[3]+size][idx[3]:idx[3]+size])\n",
    "#     multiply_rec(A[idx[4]:idx[4]+size][idx[4]:idx[4]+size], B[idx[3]:idx[3]+size][idx[3]:idx[3]+size],\n",
    "#                  C[idx[3]:idx[3]+size][idx[3]:idx[3]+size])\n",
    "    \n",
    "#     multiply_rec(A[idx[3]:idx[3]+size][idx[3]:idx[3]+size], B[idx[2]:idx[2]+size][idx[2]:idx[2]+size],\n",
    "#                  C[idx[4]:idx[4]+size][idx[4]:idx[4]+size])\n",
    "#     multiply_rec(A[idx[4]:idx[4]+size][idx[4]:idx[4]+size], B[idx[4]:idx[4]+size][idx[4]:idx[4]+size],\n",
    "#                  C[idx[4]:idx[4]+size][idx[4]:idx[4]+size])\n",
    "end"
   ]
  },
  {
   "cell_type": "code",
   "execution_count": 66,
   "metadata": {},
   "outputs": [
    {
     "name": "stdout",
     "output_type": "stream",
     "text": [
      "[[1, 2, 1, 2], [1, 2, 1, 2], [1, 2, 1, 2], [1, 2, 1, 2]]\n",
      "LEN: 4 SIZE: 2\n",
      "3 4\n",
      "1 2\n",
      "SDF [[1, 2, 1, 2], [1, 2, 1, 2]]\n"
     ]
    },
    {
     "ename": "BoundsError",
     "evalue": "\u001b[91mBoundsError: attempt to access 2-element Array{Array{Int64,1},1} at index [3:4]\u001b[39m",
     "output_type": "error",
     "traceback": [
      "\u001b[91mBoundsError: attempt to access 2-element Array{Array{Int64,1},1} at index [3:4]\u001b[39m",
      "",
      "Stacktrace:",
      " [1] throw_boundserror(::Array{Array{Int64,1},1}, ::Tuple{UnitRange{Int64}}) at ./abstractarray.jl:537",
      " [2] checkbounds at ./abstractarray.jl:502 [inlined]",
      " [3] getindex at ./array.jl:794 [inlined]",
      " [4] multiply_rec(::Array{Array{Int64,1},1}, ::Array{Array{Int64,1},1}, ::Array{Array{Int64,1},1}) at ./In[65]:19",
      " [5] top-level scope at In[66]:21"
     ]
    }
   ],
   "source": [
    "a = [\n",
    "    [1, 2, 1, 2],\n",
    "    [1, 2, 1, 2],\n",
    "    [1, 2, 1, 2],\n",
    "    [1, 2, 1, 2]\n",
    "]\n",
    "\n",
    "b = [\n",
    "    [3, 4, 3, 4],\n",
    "    [3, 4, 3, 4],\n",
    "    [3, 4, 3, 4],\n",
    "    [3, 4, 3, 4]\n",
    "]\n",
    "\n",
    "c = [\n",
    "    [0, 0, 0, 0],\n",
    "    [0, 0, 0, 0],\n",
    "    [0, 0, 0, 0],\n",
    "    [0, 0, 0, 0]\n",
    "]\n",
    "\n",
    "multiply_rec(a, b, c)\n",
    "print(c)"
   ]
  },
  {
   "cell_type": "code",
   "execution_count": 31,
   "metadata": {},
   "outputs": [
    {
     "name": "stdout",
     "output_type": "stream",
     "text": [
      "[[19, 22], [43, 50], [0, 0]]"
     ]
    }
   ],
   "source": [
    "D = [[0,0],[0,0],[0,0]]\n",
    "multiply_rec([[1,2], [3,4]], [[5,6], [7,8]], D[1:2])\n",
    "print(D)"
   ]
  },
  {
   "cell_type": "code",
   "execution_count": 54,
   "metadata": {},
   "outputs": [
    {
     "name": "stdout",
     "output_type": "stream",
     "text": [
      "[5, 2, 6]\n"
     ]
    }
   ],
   "source": [
    "a = [2, 3, 5,2,6,7]\n",
    "println(a[3:5])"
   ]
  },
  {
   "cell_type": "code",
   "execution_count": 16,
   "metadata": {},
   "outputs": [
    {
     "data": {
      "text/plain": [
       "2"
      ]
     },
     "execution_count": 16,
     "metadata": {},
     "output_type": "execute_result"
    }
   ],
   "source": [
    "b = [[1,2], [3,4]]\n",
    "length(b)"
   ]
  },
  {
   "cell_type": "code",
   "execution_count": 21,
   "metadata": {},
   "outputs": [
    {
     "data": {
      "text/plain": [
       "3"
      ]
     },
     "execution_count": 21,
     "metadata": {},
     "output_type": "execute_result"
    }
   ],
   "source": [
    "7÷2"
   ]
  },
  {
   "cell_type": "code",
   "execution_count": 23,
   "metadata": {},
   "outputs": [
    {
     "data": {
      "text/plain": [
       "1-element Array{UnitRange{Int64},1}:\n",
       " 1:2"
      ]
     },
     "execution_count": 23,
     "metadata": {},
     "output_type": "execute_result"
    }
   ],
   "source": [
    "r = [1:2]"
   ]
  },
  {
   "cell_type": "code",
   "execution_count": 102,
   "metadata": {},
   "outputs": [
    {
     "ename": "UndefVarError",
     "evalue": "\u001b[91mUndefVarError: slice not defined\u001b[39m",
     "output_type": "error",
     "traceback": [
      "\u001b[91mUndefVarError: slice not defined\u001b[39m",
      "",
      "Stacktrace:",
      " [1] top-level scope at In[102]:7"
     ]
    }
   ],
   "source": [
    "a = [\n",
    "    [1, 2, 1, 2],\n",
    "    [1, 2, 1, 2],\n",
    "    [1, 2, 1, 2],\n",
    "    [1, 2, 1, 2]\n",
    "]\n",
    "\n",
    "println(slice(a, 1:2, 1:2))"
   ]
  },
  {
   "cell_type": "code",
   "execution_count": 111,
   "metadata": {},
   "outputs": [
    {
     "name": "stdout",
     "output_type": "stream",
     "text": [
      "[1, 2, 1, 2]\n"
     ]
    }
   ],
   "source": [
    "a = [\n",
    "    1 2 1 2;\n",
    "    1 2 1 2;\n",
    "    1 2 1 2;\n",
    "    1 2 1 2\n",
    "]\n",
    "println(a[1,:])"
   ]
  },
  {
   "cell_type": "code",
   "execution_count": null,
   "metadata": {},
   "outputs": [],
   "source": []
  }
 ],
 "metadata": {
  "kernelspec": {
   "display_name": "Julia 1.4.1",
   "language": "julia",
   "name": "julia-1.4"
  },
  "language_info": {
   "file_extension": ".jl",
   "mimetype": "application/julia",
   "name": "julia",
   "version": "1.4.1"
  }
 },
 "nbformat": 4,
 "nbformat_minor": 5
}
