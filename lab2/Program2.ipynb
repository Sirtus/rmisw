{
   "cells": [
      {
         "cell_type": "code",
         "execution_count": 105,
         "id": "436fc3bc",
         "metadata": {},
         "outputs": [],
         "source": [
            "using LinearAlgebra"
         ]
      },
      {
         "attachments": {},
         "cell_type": "markdown",
         "id": "cfa57438",
         "metadata": {},
         "source": [
            "# Matrix multiplication"
         ]
      },
      {
         "cell_type": "code",
         "execution_count": 106,
         "id": "cfc2f111",
         "metadata": {},
         "outputs": [
            {
               "data": {
                  "text/plain": [
                     "classic_ (generic function with 1 method)"
                  ]
               },
               "metadata": {},
               "output_type": "display_data"
            }
         ],
         "source": [
            "function classic_(A, B, C)\n",
            "    len = size(A,1)\n",
            "    for i in 1:len\n",
            "       for j in 1:len\n",
            "           for k in 1:len\n",
            "                C[i, j] += (A[i, k] * B[k, j])\n",
            "            end\n",
            "        end\n",
            "    end\n",
            "    return C\n",
            "end"
         ]
      },
      {
         "cell_type": "code",
         "execution_count": 131,
         "id": "df7e5616",
         "metadata": {},
         "outputs": [
            {
               "data": {
                  "text/plain": [
                     "multiply_rec (generic function with 1 method)"
                  ]
               },
               "metadata": {},
               "output_type": "display_data"
            }
         ],
         "source": [
            "function multiply_rec_(A, B, C)\n",
            "    if size(A,1) == 2\n",
            "        classic_(A, B, C)\n",
            "        return C\n",
            "    end\n",
            "    len = (size(A,1)÷2)\n",
            "    a11 = [1:len,1:len]\n",
            "    a12 = [1:len,len+1:len*2]\n",
            "    a21 = [len+1:len*2,1:len]\n",
            "    a22 = [len+1:len*2,len+1:len*2]\n",
            "\n",
            "    multiply_rec_(\n",
            "        A[a11...], \n",
            "        B[a11...],\n",
            "        @view C[a11...]\n",
            "    )\n",
            "    multiply_rec_(\n",
            "        A[a12...], \n",
            "        B[a21...],\n",
            "        @view C[a11...]\n",
            "    )\n",
            "\n",
            "    multiply_rec_(\n",
            "        A[a11...], \n",
            "        B[a12...],\n",
            "        @view C[a12...]\n",
            "    )\n",
            "    multiply_rec_(\n",
            "        A[a12...], \n",
            "        B[a22...],\n",
            "        @view C[a12...]\n",
            "    )\n",
            "\n",
            "    multiply_rec_(\n",
            "        A[a21...], \n",
            "        B[a11...],\n",
            "        @view C[a21...]\n",
            "    )\n",
            "    multiply_rec_(\n",
            "        A[a22...], \n",
            "        B[a21...],\n",
            "        @view C[a21...]\n",
            "    )\n",
            "    \n",
            "    multiply_rec_(\n",
            "        A[a21...], \n",
            "        B[a12...],\n",
            "        @view C[a22...]\n",
            "    )\n",
            "    multiply_rec_(\n",
            "        A[a22...], \n",
            "        B[a22...],\n",
            "        @view C[a22...]\n",
            "    )\n",
            "end\n",
            "\n",
            "function multiply_rec(A, B)\n",
            "    C = zeros(size(A,1), size(B,2))\n",
            "    multiply_rec_(A, B, C)\n",
            "    return C\n",
            "end"
         ]
      },
      {
         "cell_type": "code",
         "execution_count": 173,
         "id": "f68c1494",
         "metadata": {},
         "outputs": [
            {
               "data": {
                  "text/plain": [
                     "my_inv (generic function with 2 methods)"
                  ]
               },
               "metadata": {},
               "output_type": "display_data"
            }
         ],
         "source": [
            "function inv2x2(A)\n",
            "    detA = A[1, 1]*A[2, 2] - A[1, 2]*A[2, 1]\n",
            "    invA = [\n",
            "        A[2, 2] -A[1, 2]\n",
            "        -A[2, 1] A[1, 1]\n",
            "    ]\n",
            "    return (1/detA)*invA\n",
            "end\n",
            "\n",
            "function inv_rec(A, B)\n",
            "    len = size(A,1) ÷ 2\n",
            "    \n",
            "    if size(A, 1) == 2\n",
            "        B[:, :] = inv2x2(A)\n",
            "        return\n",
            "    end\n",
            "    \n",
            "    a11 = [1:len,1:len]\n",
            "    a12 = [1:len,len+1:len*2]\n",
            "    a21 = [len+1:len*2,1:len]\n",
            "    a22 = [len+1:len*2,len+1:len*2]\n",
            "\n",
            "    invA11 = my_inv(A[a11...])\n",
            "    \n",
            "    S22 = A[a22...] - multiply_rec(\n",
            "        multiply_rec(A[a21...], invA11), \n",
            "        A[a12...]\n",
            "    )\n",
            "        \n",
            "    invS22 = my_inv(S22)\n",
            "    Id = Matrix(1.0I, len, len)\n",
            "    \n",
            "    B[a11...] = multiply_rec(\n",
            "        invA11, \n",
            "        Id + multiply_rec(\n",
            "            multiply_rec(\n",
            "                multiply_rec(A[a12...], invS22), \n",
            "                A[a21...]\n",
            "            ), \n",
            "            invA11\n",
            "        )\n",
            "    )\n",
            "    B[a12...] = multiply_rec(multiply_rec(-invA11, A[a12...]), invS22)\n",
            "    B[a21...] = multiply_rec(multiply_rec(-invS22, A[a21...]), invA11)\n",
            "    B[a22...] = invS22\n",
            "end\n",
            "\n",
            "function my_inv(A:: Matrix)\n",
            "    B = 1.0 * zeros(size(A,1), size(A,1))\n",
            "    inv_rec(A, B)\n",
            "    return B\n",
            "end"
         ]
      },
      {
         "attachments": {},
         "cell_type": "markdown",
         "id": "361c8be8",
         "metadata": {},
         "source": [
            "## Test if results are correct"
         ]
      },
      {
         "cell_type": "code",
         "execution_count": 189,
         "id": "e3951094",
         "metadata": {},
         "outputs": [
            {
               "name": "stdout",
               "output_type": "stream",
               "text": [
                  "Testing matrix multiplication\n",
                  "Test passed for matrix of size 2x2\n",
                  "Test passed for matrix of size 4x4\n",
                  "Test passed for matrix of size 8x8\n",
                  "Test passed for matrix of size 16x16\n",
                  "Test passed for matrix of size 32x32\n",
                  "Testing inverse\n",
                  "Test passed for matrix of size 2x2\n",
                  "Test passed for matrix of size 4x4\n",
                  "Test passed for matrix of size 8x8\n",
                  "Test passed for matrix of size 16x16\n",
                  "Test passed for matrix of size 32x32\n"
               ]
            },
            {
               "name": "stdout",
               "output_type": "stream",
               "text": [
                  "Test passed for matrix of size 64x64\n",
                  "Test passed for matrix of size "
               ]
            },
            {
               "name": "stdout",
               "output_type": "stream",
               "text": [
                  "128x128\n"
               ]
            }
         ],
         "source": [
            "function test_dot(n)\n",
            "    for i in 1:n\n",
            "        A = rand(2^i, 2^i)\n",
            "        B = rand(2^i, 2^i)\n",
            "        if isapprox(A * B, multiply_rec(A, B))\n",
            "            println(\"Test passed for matrix of size \", 2^i, \"x\", 2^i)\n",
            "        else\n",
            "            println(\"Test failed for matrix of size \", 2^i, \"x\", 2^i)\n",
            "        end\n",
            "    end\n",
            "end\n",
            "\n",
            "function test_inv(n)\n",
            "    for i in 1:n\n",
            "        A = rand(2^i, 2^i)\n",
            "        if isapprox(inv(A), my_inv(A))\n",
            "            println(\"Test passed for matrix of size \", 2^i, \"x\", 2^i)\n",
            "        else\n",
            "            println(\"Test failed for matrix of size \", 2^i, \"x\", 2^i)\n",
            "        end\n",
            "    end\n",
            "end\n",
            "\n",
            "println(\"Testing matrix multiplication\")\n",
            "test_dot(5)\n",
            "\n",
            "println(\"Testing inverse\")\n",
            "test_inv(7)"
         ]
      },
      {
         "cell_type": "code",
         "execution_count": null,
         "id": "3d9162e6",
         "metadata": {},
         "outputs": [],
         "source": []
      }
   ],
   "metadata": {
      "kernelspec": {
         "display_name": "Julia 1.8.5",
         "language": "julia",
         "name": "julia-1.8"
      },
      "language_info": {
         "file_extension": ".jl",
         "mimetype": "application/julia",
         "name": "julia",
         "version": "1.8.5"
      }
   },
   "nbformat": 4,
   "nbformat_minor": 5
}