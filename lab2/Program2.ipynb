{
 "cells": [
  {
   "cell_type": "code",
   "execution_count": 1,
   "id": "436fc3bc",
   "metadata": {
    "tags": []
   },
   "outputs": [],
   "source": [
    "using LinearAlgebra"
   ]
  },
  {
   "cell_type": "markdown",
   "id": "cfa57438",
   "metadata": {},
   "source": [
    "# Matrix multiplication"
   ]
  },
  {
   "cell_type": "markdown",
   "id": "c2e3198d-de8a-4aee-9da5-770d7fcf38a5",
   "metadata": {},
   "source": [
    "```\n",
    "// input: A, B\n",
    "// output: C\n",
    "function binete_algorithm(A, B, C) {\n",
    "    \n",
    "    if (A.size > 2) {\n",
    "        a11, a12, a21, a22 = A[range_A].slice_into_quarters();\n",
    "        b11, b12, b21, b22 = B[range_B].slice_into_quarters();\n",
    "        c11, c12, c21, c22 = C[range_C].slice_into_quarters();\n",
    "        \n",
    "        // up-left\n",
    "        binete_algorithm(a11, b11, c11);\n",
    "        binete_algorithm(a12, b21, c11);\n",
    "\n",
    "        // up-right\n",
    "        binete_algorithm(a11, b12, c12);\n",
    "        binete_algorithm(a12, b22, c12);\n",
    "\n",
    "        // down-left\n",
    "        binete_algorithm(a21, b11, c21);\n",
    "        binete_algorithm(a22, b21, c21);\n",
    "\n",
    "        // down-right\n",
    "        binete_algorithm(a21, b12, c22);\n",
    "        binete_algorithm(a22, b22, c22);\n",
    "    } else {\n",
    "        mat_mul(A, B, C); // do traditional matrix multiplication\n",
    "    }\n",
    "}\n",
    "```"
   ]
  },
  {
   "cell_type": "code",
   "execution_count": 2,
   "id": "cfc2f111",
   "metadata": {
    "tags": []
   },
   "outputs": [
    {
     "data": {
      "text/plain": [
       "classic_ (generic function with 1 method)"
      ]
     },
     "execution_count": 2,
     "metadata": {},
     "output_type": "execute_result"
    }
   ],
   "source": [
    "function classic_(A, B, C)\n",
    "    len = size(A,1)\n",
    "    for i in 1:len\n",
    "       for j in 1:len\n",
    "           for k in 1:len\n",
    "                C[i, j] += (A[i, k] * B[k, j])\n",
    "            end\n",
    "        end\n",
    "    end\n",
    "    return C\n",
    "end"
   ]
  },
  {
   "cell_type": "code",
   "execution_count": 3,
   "id": "df7e5616",
   "metadata": {
    "tags": []
   },
   "outputs": [
    {
     "data": {
      "text/plain": [
       "multiply_rec (generic function with 1 method)"
      ]
     },
     "execution_count": 3,
     "metadata": {},
     "output_type": "execute_result"
    }
   ],
   "source": [
    "FLOPS = 0\n",
    "function multiply_rec_(A, B, C)\n",
    "    if size(A,1) == 2\n",
    "        classic_(A, B, C)\n",
    "        global FLOPS += 8\n",
    "        return C\n",
    "    end\n",
    "    len = (size(A,1)÷2)\n",
    "    a11 = [1:len,1:len]\n",
    "    a12 = [1:len,len+1:len*2]\n",
    "    a21 = [len+1:len*2,1:len]\n",
    "    a22 = [len+1:len*2,len+1:len*2]\n",
    "\n",
    "    multiply_rec_(\n",
    "        A[a11...], \n",
    "        B[a11...],\n",
    "        @view C[a11...]\n",
    "    )\n",
    "    multiply_rec_(\n",
    "        A[a12...], \n",
    "        B[a21...],\n",
    "        @view C[a11...]\n",
    "    )\n",
    "\n",
    "    multiply_rec_(\n",
    "        A[a11...], \n",
    "        B[a12...],\n",
    "        @view C[a12...]\n",
    "    )\n",
    "    multiply_rec_(\n",
    "        A[a12...], \n",
    "        B[a22...],\n",
    "        @view C[a12...]\n",
    "    )\n",
    "\n",
    "    multiply_rec_(\n",
    "        A[a21...], \n",
    "        B[a11...],\n",
    "        @view C[a21...]\n",
    "    )\n",
    "    multiply_rec_(\n",
    "        A[a22...], \n",
    "        B[a21...],\n",
    "        @view C[a21...]\n",
    "    )\n",
    "    \n",
    "    multiply_rec_(\n",
    "        A[a21...], \n",
    "        B[a12...],\n",
    "        @view C[a22...]\n",
    "    )\n",
    "    multiply_rec_(\n",
    "        A[a22...], \n",
    "        B[a22...],\n",
    "        @view C[a22...]\n",
    "    )\n",
    "end\n",
    "\n",
    "function multiply_rec(A, B)\n",
    "    C = zeros(size(A,1), size(B,2))\n",
    "    multiply_rec_(A, B, C)\n",
    "    return C\n",
    "end"
   ]
  },
  {
   "cell_type": "markdown",
   "id": "3a1568a0-1b60-4382-bf5c-7f283184c919",
   "metadata": {},
   "source": [
    "# Matrix inverse"
   ]
  },
  {
   "cell_type": "markdown",
   "id": "6ce0ff68-3a09-4ac7-8277-130bd8a5bd84",
   "metadata": {},
   "source": [
    "```\n",
    "// input: A - matrix to inverse, B - result matrix\n",
    "function inv(A, B)\n",
    "    len = size(A) / 2\n",
    "    \n",
    "    if len == 1\n",
    "        B = classic_2x2_inverse(A)\n",
    "    else\n",
    "        a11, a12, a21, a22 = <A matrix indexing for each quater>\n",
    "\n",
    "        inv(A[a11], invA11)\n",
    "\n",
    "        S22 = A[a22] - multiply_rec( \n",
    "            multiply_rec(A[a21], invA11), \n",
    "            A[a12]\n",
    "        )\n",
    "\n",
    "        inv_rec(S22, invS22)\n",
    "\n",
    "        B[a11] = multiply_rec(\n",
    "            invA11, \n",
    "            I + multiply_rec(\n",
    "                    multiply_rec(\n",
    "                        multiply_rec(A[a12], invS22), \n",
    "                        A[a21]\n",
    "                    ), \n",
    "                    invA11\n",
    "            )\n",
    "        )\n",
    "        B[a12] = multiply_rec(multiply_rec(-invA11, A[a12]), invS22)\n",
    "        B[a21] = multiply_rec(multiply_rec(-invS22, A[a21]), invA11)\n",
    "        B[a22] = invS22\n",
    "end\n",
    "```"
   ]
  },
  {
   "cell_type": "code",
   "execution_count": 4,
   "id": "f68c1494",
   "metadata": {
    "tags": []
   },
   "outputs": [
    {
     "data": {
      "text/plain": [
       "my_inv (generic function with 1 method)"
      ]
     },
     "execution_count": 4,
     "metadata": {},
     "output_type": "execute_result"
    }
   ],
   "source": [
    "function inv2x2(A)\n",
    "    detA = A[1, 1]*A[2, 2] - A[1, 2]*A[2, 1]\n",
    "    invA = [\n",
    "        A[2, 2] -A[1, 2]\n",
    "        -A[2, 1] A[1, 1]\n",
    "    ]\n",
    "    return (1/detA)*invA\n",
    "end\n",
    "\n",
    "function inv_rec(A, B)\n",
    "    len = size(A,1) ÷ 2\n",
    "    \n",
    "    if size(A, 1) == 2\n",
    "        B[:, :] = inv2x2(A)\n",
    "        global FLOPS += 8\n",
    "        return\n",
    "    end\n",
    "    \n",
    "    a11 = [1:len,1:len]\n",
    "    a12 = [1:len,len+1:len*2]\n",
    "    a21 = [len+1:len*2,1:len]\n",
    "    a22 = [len+1:len*2,len+1:len*2]\n",
    "\n",
    "    invA11 = my_inv(A[a11...])\n",
    "    \n",
    "    S22 = A[a22...] - multiply_rec(\n",
    "        multiply_rec(A[a21...], invA11), \n",
    "        A[a12...]\n",
    "    )\n",
    "        \n",
    "    invS22 = my_inv(S22)\n",
    "    Id = Matrix(1.0I, len, len)\n",
    "    \n",
    "    B[a11...] = multiply_rec(\n",
    "        invA11, \n",
    "        Id + multiply_rec(\n",
    "            multiply_rec(\n",
    "                multiply_rec(A[a12...], invS22), \n",
    "                A[a21...]\n",
    "            ), \n",
    "            invA11\n",
    "        )\n",
    "    )\n",
    "    global FLOPS += 2 \n",
    "    B[a12...] = multiply_rec(multiply_rec(-invA11, A[a12...]), invS22)\n",
    "    B[a21...] = multiply_rec(multiply_rec(-invS22, A[a21...]), invA11)\n",
    "    B[a22...] = invS22\n",
    "end\n",
    "\n",
    "function my_inv(A:: Matrix)\n",
    "    B = 1.0 * zeros(size(A,1), size(A,1))\n",
    "    inv_rec(A, B)\n",
    "    return B\n",
    "end"
   ]
  },
  {
   "cell_type": "markdown",
   "id": "e81895f9-779d-4550-8591-e6f2a8afc10b",
   "metadata": {},
   "source": [
    "# Plots"
   ]
  },
  {
   "cell_type": "code",
   "execution_count": 8,
   "id": "e3a4c5e7",
   "metadata": {
    "tags": []
   },
   "outputs": [
    {
     "name": "stdout",
     "output_type": "stream",
     "text": [
      "n=1, time=7.375e-6, flops=8.0\n",
      "n=2, time=2.0417e-5, flops=98.0\n",
      "n=3, time=5.2542e-5, flops=838.0\n",
      "n=4, time=0.000443625, flops=6798.0\n",
      "n=5, time=0.003164583, flops=54558.0\n",
      "n=6, time=0.046712625, flops=436798.0\n",
      "n=7, time=0.352429583, flops=3.495038e6\n",
      "n=8, time=1.49187225, flops=2.7961598e7\n",
      "n=9, time=11.696615834, flops=2.23695358e8\n",
      "n=10, time=97.297025834, flops=1.789567998e9\n"
     ]
    },
    {
     "data": {
      "text/plain": [
       "([7.375e-6, 2.0417e-5, 5.2542e-5, 0.000443625, 0.003164583, 0.046712625, 0.352429583, 1.49187225, 11.696615834, 97.297025834], [8.0, 98.0, 838.0, 6798.0, 54558.0, 436798.0, 3.495038e6, 2.7961598e7, 2.23695358e8, 1.789567998e9])"
      ]
     },
     "execution_count": 8,
     "metadata": {},
     "output_type": "execute_result"
    }
   ],
   "source": [
    "using Plots\n",
    "\n",
    "function test_time_inv(n)\n",
    "    times = zeros(n)\n",
    "    flops = zeros(n)\n",
    "    for i in 1:n\n",
    "        A = rand(2^i, 2^i)\n",
    "        global FLOPS = 0\n",
    "        times[i] = @elapsed my_inv(A)\n",
    "        flops[i] = FLOPS\n",
    "        println(\"n=$i, time=$(times[i]), flops=$(flops[i])\")\n",
    "        flush(stdout)\n",
    "    end\n",
    "    return times, flops\n",
    "end\n",
    "\n",
    "times, flops = test_time_inv(10)"
   ]
  },
  {
   "cell_type": "code",
   "execution_count": 9,
   "id": "b1704422",
   "metadata": {},
   "outputs": [
    {
     "data": {
      "image/svg+xml": [
       "<?xml version=\"1.0\" encoding=\"utf-8\"?>\n",
       "<svg xmlns=\"http://www.w3.org/2000/svg\" xmlns:xlink=\"http://www.w3.org/1999/xlink\" width=\"600\" height=\"400\" viewBox=\"0 0 2400 1600\">\n",
       "<defs>\n",
       "  <clipPath id=\"clip450\">\n",
       "    <rect x=\"0\" y=\"0\" width=\"2400\" height=\"1600\"/>\n",
       "  </clipPath>\n",
       "</defs>\n",
       "<path clip-path=\"url(#clip450)\" d=\"M0 1600 L2400 1600 L2400 0 L0 0  Z\" fill=\"#ffffff\" fill-rule=\"evenodd\" fill-opacity=\"1\"/>\n",
       "<defs>\n",
       "  <clipPath id=\"clip451\">\n",
       "    <rect x=\"480\" y=\"0\" width=\"1681\" height=\"1600\"/>\n",
       "  </clipPath>\n",
       "</defs>\n",
       "<path clip-path=\"url(#clip450)\" d=\"M232.389 1423.18 L2352.76 1423.18 L2352.76 47.2441 L232.389 47.2441  Z\" fill=\"#ffffff\" fill-rule=\"evenodd\" fill-opacity=\"1\"/>\n",
       "<defs>\n",
       "  <clipPath id=\"clip452\">\n",
       "    <rect x=\"232\" y=\"47\" width=\"2121\" height=\"1377\"/>\n",
       "  </clipPath>\n",
       "</defs>\n",
       "<polyline clip-path=\"url(#clip452)\" style=\"stroke:#000000; stroke-linecap:round; stroke-linejoin:round; stroke-width:2; stroke-opacity:0.1; fill:none\" points=\"514.66,1423.18 514.66,47.2441 \"/>\n",
       "<polyline clip-path=\"url(#clip452)\" style=\"stroke:#000000; stroke-linecap:round; stroke-linejoin:round; stroke-width:2; stroke-opacity:0.1; fill:none\" points=\"959.182,1423.18 959.182,47.2441 \"/>\n",
       "<polyline clip-path=\"url(#clip452)\" style=\"stroke:#000000; stroke-linecap:round; stroke-linejoin:round; stroke-width:2; stroke-opacity:0.1; fill:none\" points=\"1403.7,1423.18 1403.7,47.2441 \"/>\n",
       "<polyline clip-path=\"url(#clip452)\" style=\"stroke:#000000; stroke-linecap:round; stroke-linejoin:round; stroke-width:2; stroke-opacity:0.1; fill:none\" points=\"1848.22,1423.18 1848.22,47.2441 \"/>\n",
       "<polyline clip-path=\"url(#clip452)\" style=\"stroke:#000000; stroke-linecap:round; stroke-linejoin:round; stroke-width:2; stroke-opacity:0.1; fill:none\" points=\"2292.75,1423.18 2292.75,47.2441 \"/>\n",
       "<polyline clip-path=\"url(#clip450)\" style=\"stroke:#000000; stroke-linecap:round; stroke-linejoin:round; stroke-width:4; stroke-opacity:1; fill:none\" points=\"232.389,1423.18 2352.76,1423.18 \"/>\n",
       "<polyline clip-path=\"url(#clip450)\" style=\"stroke:#000000; stroke-linecap:round; stroke-linejoin:round; stroke-width:4; stroke-opacity:1; fill:none\" points=\"514.66,1423.18 514.66,1404.28 \"/>\n",
       "<polyline clip-path=\"url(#clip450)\" style=\"stroke:#000000; stroke-linecap:round; stroke-linejoin:round; stroke-width:4; stroke-opacity:1; fill:none\" points=\"959.182,1423.18 959.182,1404.28 \"/>\n",
       "<polyline clip-path=\"url(#clip450)\" style=\"stroke:#000000; stroke-linecap:round; stroke-linejoin:round; stroke-width:4; stroke-opacity:1; fill:none\" points=\"1403.7,1423.18 1403.7,1404.28 \"/>\n",
       "<polyline clip-path=\"url(#clip450)\" style=\"stroke:#000000; stroke-linecap:round; stroke-linejoin:round; stroke-width:4; stroke-opacity:1; fill:none\" points=\"1848.22,1423.18 1848.22,1404.28 \"/>\n",
       "<polyline clip-path=\"url(#clip450)\" style=\"stroke:#000000; stroke-linecap:round; stroke-linejoin:round; stroke-width:4; stroke-opacity:1; fill:none\" points=\"2292.75,1423.18 2292.75,1404.28 \"/>\n",
       "<path clip-path=\"url(#clip450)\" d=\"M509.313 1481.64 L525.633 1481.64 L525.633 1485.58 L503.688 1485.58 L503.688 1481.64 Q506.35 1478.89 510.934 1474.26 Q515.54 1469.61 516.721 1468.27 Q518.966 1465.74 519.846 1464.01 Q520.748 1462.25 520.748 1460.56 Q520.748 1457.8 518.804 1456.07 Q516.883 1454.33 513.781 1454.33 Q511.582 1454.33 509.128 1455.09 Q506.697 1455.86 503.92 1457.41 L503.92 1452.69 Q506.744 1451.55 509.197 1450.97 Q511.651 1450.39 513.688 1450.39 Q519.058 1450.39 522.253 1453.08 Q525.447 1455.77 525.447 1460.26 Q525.447 1462.39 524.637 1464.31 Q523.85 1466.2 521.744 1468.8 Q521.165 1469.47 518.063 1472.69 Q514.961 1475.88 509.313 1481.64 Z\" fill=\"#000000\" fill-rule=\"nonzero\" fill-opacity=\"1\" /><path clip-path=\"url(#clip450)\" d=\"M962.191 1455.09 L950.385 1473.54 L962.191 1473.54 L962.191 1455.09 M960.964 1451.02 L966.844 1451.02 L966.844 1473.54 L971.774 1473.54 L971.774 1477.43 L966.844 1477.43 L966.844 1485.58 L962.191 1485.58 L962.191 1477.43 L946.589 1477.43 L946.589 1472.92 L960.964 1451.02 Z\" fill=\"#000000\" fill-rule=\"nonzero\" fill-opacity=\"1\" /><path clip-path=\"url(#clip450)\" d=\"M1404.11 1466.44 Q1400.96 1466.44 1399.11 1468.59 Q1397.28 1470.74 1397.28 1474.49 Q1397.28 1478.22 1399.11 1480.39 Q1400.96 1482.55 1404.11 1482.55 Q1407.26 1482.55 1409.08 1480.39 Q1410.94 1478.22 1410.94 1474.49 Q1410.94 1470.74 1409.08 1468.59 Q1407.26 1466.44 1404.11 1466.44 M1413.39 1451.78 L1413.39 1456.04 Q1411.63 1455.21 1409.83 1454.77 Q1408.04 1454.33 1406.28 1454.33 Q1401.65 1454.33 1399.2 1457.45 Q1396.77 1460.58 1396.42 1466.9 Q1397.79 1464.89 1399.85 1463.82 Q1401.91 1462.73 1404.39 1462.73 Q1409.59 1462.73 1412.6 1465.9 Q1415.64 1469.05 1415.64 1474.49 Q1415.64 1479.82 1412.49 1483.03 Q1409.34 1486.25 1404.11 1486.25 Q1398.11 1486.25 1394.94 1481.67 Q1391.77 1477.06 1391.77 1468.33 Q1391.77 1460.14 1395.66 1455.28 Q1399.55 1450.39 1406.1 1450.39 Q1407.86 1450.39 1409.64 1450.74 Q1411.45 1451.09 1413.39 1451.78 Z\" fill=\"#000000\" fill-rule=\"nonzero\" fill-opacity=\"1\" /><path clip-path=\"url(#clip450)\" d=\"M1848.22 1469.17 Q1844.89 1469.17 1842.97 1470.95 Q1841.07 1472.73 1841.07 1475.86 Q1841.07 1478.98 1842.97 1480.77 Q1844.89 1482.55 1848.22 1482.55 Q1851.56 1482.55 1853.48 1480.77 Q1855.4 1478.96 1855.4 1475.86 Q1855.4 1472.73 1853.48 1470.95 Q1851.58 1469.17 1848.22 1469.17 M1843.55 1467.18 Q1840.54 1466.44 1838.85 1464.38 Q1837.18 1462.32 1837.18 1459.35 Q1837.18 1455.21 1840.12 1452.8 Q1843.09 1450.39 1848.22 1450.39 Q1853.39 1450.39 1856.33 1452.8 Q1859.27 1455.21 1859.27 1459.35 Q1859.27 1462.32 1857.58 1464.38 Q1855.91 1466.44 1852.92 1467.18 Q1856.3 1467.96 1858.18 1470.26 Q1860.08 1472.55 1860.08 1475.86 Q1860.08 1480.88 1857 1483.57 Q1853.94 1486.25 1848.22 1486.25 Q1842.51 1486.25 1839.43 1483.57 Q1836.37 1480.88 1836.37 1475.86 Q1836.37 1472.55 1838.27 1470.26 Q1840.17 1467.96 1843.55 1467.18 M1841.84 1459.79 Q1841.84 1462.48 1843.5 1463.98 Q1845.19 1465.49 1848.22 1465.49 Q1851.23 1465.49 1852.92 1463.98 Q1854.64 1462.48 1854.64 1459.79 Q1854.64 1457.11 1852.92 1455.6 Q1851.23 1454.1 1848.22 1454.1 Q1845.19 1454.1 1843.5 1455.6 Q1841.84 1457.11 1841.84 1459.79 Z\" fill=\"#000000\" fill-rule=\"nonzero\" fill-opacity=\"1\" /><path clip-path=\"url(#clip450)\" d=\"M2267.43 1481.64 L2275.07 1481.64 L2275.07 1455.28 L2266.76 1456.95 L2266.76 1452.69 L2275.03 1451.02 L2279.7 1451.02 L2279.7 1481.64 L2287.34 1481.64 L2287.34 1485.58 L2267.43 1485.58 L2267.43 1481.64 Z\" fill=\"#000000\" fill-rule=\"nonzero\" fill-opacity=\"1\" /><path clip-path=\"url(#clip450)\" d=\"M2306.78 1454.1 Q2303.17 1454.1 2301.35 1457.66 Q2299.54 1461.2 2299.54 1468.33 Q2299.54 1475.44 2301.35 1479.01 Q2303.17 1482.55 2306.78 1482.55 Q2310.42 1482.55 2312.22 1479.01 Q2314.05 1475.44 2314.05 1468.33 Q2314.05 1461.2 2312.22 1457.66 Q2310.42 1454.1 2306.78 1454.1 M2306.78 1450.39 Q2312.59 1450.39 2315.65 1455 Q2318.73 1459.58 2318.73 1468.33 Q2318.73 1477.06 2315.65 1481.67 Q2312.59 1486.25 2306.78 1486.25 Q2300.97 1486.25 2297.9 1481.67 Q2294.84 1477.06 2294.84 1468.33 Q2294.84 1459.58 2297.9 1455 Q2300.97 1450.39 2306.78 1450.39 Z\" fill=\"#000000\" fill-rule=\"nonzero\" fill-opacity=\"1\" /><path clip-path=\"url(#clip450)\" d=\"M1181.94 1518.52 L1187.79 1518.52 L1187.79 1568.04 L1181.94 1568.04 L1181.94 1518.52 Z\" fill=\"#000000\" fill-rule=\"nonzero\" fill-opacity=\"1\" /><path clip-path=\"url(#clip450)\" d=\"M1213.86 1536.5 Q1209.15 1536.5 1206.41 1540.19 Q1203.68 1543.85 1203.68 1550.25 Q1203.68 1556.65 1206.38 1560.34 Q1209.12 1564 1213.86 1564 Q1218.54 1564 1221.28 1560.31 Q1224.01 1556.62 1224.01 1550.25 Q1224.01 1543.92 1221.28 1540.23 Q1218.54 1536.5 1213.86 1536.5 M1213.86 1531.54 Q1221.5 1531.54 1225.86 1536.5 Q1230.22 1541.47 1230.22 1550.25 Q1230.22 1559 1225.86 1564 Q1221.5 1568.97 1213.86 1568.97 Q1206.19 1568.97 1201.83 1564 Q1197.5 1559 1197.5 1550.25 Q1197.5 1541.47 1201.83 1536.5 Q1206.19 1531.54 1213.86 1531.54 Z\" fill=\"#000000\" fill-rule=\"nonzero\" fill-opacity=\"1\" /><path clip-path=\"url(#clip450)\" d=\"M1263.39 1549.81 Q1263.39 1543.44 1260.74 1539.94 Q1258.13 1536.44 1253.39 1536.44 Q1248.68 1536.44 1246.04 1539.94 Q1243.43 1543.44 1243.43 1549.81 Q1243.43 1556.14 1246.04 1559.64 Q1248.68 1563.14 1253.39 1563.14 Q1258.13 1563.14 1260.74 1559.64 Q1263.39 1556.14 1263.39 1549.81 M1269.24 1563.62 Q1269.24 1572.72 1265.2 1577.15 Q1261.16 1581.6 1252.82 1581.6 Q1249.73 1581.6 1246.99 1581.13 Q1244.26 1580.68 1241.68 1579.72 L1241.68 1574.03 Q1244.26 1575.43 1246.77 1576.1 Q1249.29 1576.76 1251.9 1576.76 Q1257.66 1576.76 1260.52 1573.74 Q1263.39 1570.75 1263.39 1564.67 L1263.39 1561.77 Q1261.57 1564.92 1258.74 1566.48 Q1255.91 1568.04 1251.96 1568.04 Q1245.4 1568.04 1241.39 1563.05 Q1237.38 1558.05 1237.38 1549.81 Q1237.38 1541.53 1241.39 1536.53 Q1245.4 1531.54 1251.96 1531.54 Q1255.91 1531.54 1258.74 1533.1 Q1261.57 1534.66 1263.39 1537.81 L1263.39 1532.4 L1269.24 1532.4 L1269.24 1563.62 Z\" fill=\"#000000\" fill-rule=\"nonzero\" fill-opacity=\"1\" /><path clip-path=\"url(#clip450)\" d=\"M1287.67 1562.63 L1310.11 1562.63 L1310.11 1568.04 L1279.94 1568.04 L1279.94 1562.63 Q1283.6 1558.85 1289.9 1552.48 Q1296.23 1546.08 1297.86 1544.24 Q1300.94 1540.77 1302.15 1538.38 Q1303.39 1535.96 1303.39 1533.64 Q1303.39 1529.85 1300.72 1527.46 Q1298.08 1525.08 1293.81 1525.08 Q1290.79 1525.08 1287.42 1526.13 Q1284.07 1527.18 1280.25 1529.31 L1280.25 1522.82 Q1284.14 1521.26 1287.51 1520.46 Q1290.89 1519.66 1293.69 1519.66 Q1301.07 1519.66 1305.46 1523.36 Q1309.86 1527.05 1309.86 1533.22 Q1309.86 1536.15 1308.74 1538.79 Q1307.66 1541.4 1304.76 1544.97 Q1303.97 1545.89 1299.7 1550.32 Q1295.44 1554.71 1287.67 1562.63 Z\" fill=\"#000000\" fill-rule=\"nonzero\" fill-opacity=\"1\" /><path clip-path=\"url(#clip450)\" d=\"M1336.85 1518.58 Q1332.58 1525.9 1330.51 1533.06 Q1328.44 1540.23 1328.44 1547.58 Q1328.44 1554.93 1330.51 1562.16 Q1332.61 1569.35 1336.85 1576.64 L1331.75 1576.64 Q1326.98 1569.16 1324.59 1561.93 Q1322.24 1554.71 1322.24 1547.58 Q1322.24 1540.48 1324.59 1533.29 Q1326.95 1526.09 1331.75 1518.58 L1336.85 1518.58 Z\" fill=\"#000000\" fill-rule=\"nonzero\" fill-opacity=\"1\" /><path clip-path=\"url(#clip450)\" d=\"M1377.84 1546.53 L1377.84 1568.04 L1371.98 1568.04 L1371.98 1546.72 Q1371.98 1541.66 1370.01 1539.14 Q1368.04 1536.63 1364.09 1536.63 Q1359.35 1536.63 1356.61 1539.65 Q1353.87 1542.68 1353.87 1547.9 L1353.87 1568.04 L1347.99 1568.04 L1347.99 1532.4 L1353.87 1532.4 L1353.87 1537.93 Q1355.98 1534.72 1358.81 1533.13 Q1361.67 1531.54 1365.4 1531.54 Q1371.54 1531.54 1374.69 1535.36 Q1377.84 1539.14 1377.84 1546.53 Z\" fill=\"#000000\" fill-rule=\"nonzero\" fill-opacity=\"1\" /><path clip-path=\"url(#clip450)\" d=\"M1388.6 1518.58 L1393.69 1518.58 Q1398.47 1526.09 1400.82 1533.29 Q1403.21 1540.48 1403.21 1547.58 Q1403.21 1554.71 1400.82 1561.93 Q1398.47 1569.16 1393.69 1576.64 L1388.6 1576.64 Q1392.83 1569.35 1394.9 1562.16 Q1397 1554.93 1397 1547.58 Q1397 1540.23 1394.9 1533.06 Q1392.83 1525.9 1388.6 1518.58 Z\" fill=\"#000000\" fill-rule=\"nonzero\" fill-opacity=\"1\" /><polyline clip-path=\"url(#clip452)\" style=\"stroke:#000000; stroke-linecap:round; stroke-linejoin:round; stroke-width:2; stroke-opacity:0.1; fill:none\" points=\"232.389,1384.24 2352.76,1384.24 \"/>\n",
       "<polyline clip-path=\"url(#clip452)\" style=\"stroke:#000000; stroke-linecap:round; stroke-linejoin:round; stroke-width:2; stroke-opacity:0.1; fill:none\" points=\"232.389,1050.71 2352.76,1050.71 \"/>\n",
       "<polyline clip-path=\"url(#clip452)\" style=\"stroke:#000000; stroke-linecap:round; stroke-linejoin:round; stroke-width:2; stroke-opacity:0.1; fill:none\" points=\"232.389,717.182 2352.76,717.182 \"/>\n",
       "<polyline clip-path=\"url(#clip452)\" style=\"stroke:#000000; stroke-linecap:round; stroke-linejoin:round; stroke-width:2; stroke-opacity:0.1; fill:none\" points=\"232.389,383.653 2352.76,383.653 \"/>\n",
       "<polyline clip-path=\"url(#clip452)\" style=\"stroke:#000000; stroke-linecap:round; stroke-linejoin:round; stroke-width:2; stroke-opacity:0.1; fill:none\" points=\"232.389,50.1249 2352.76,50.1249 \"/>\n",
       "<polyline clip-path=\"url(#clip450)\" style=\"stroke:#000000; stroke-linecap:round; stroke-linejoin:round; stroke-width:4; stroke-opacity:1; fill:none\" points=\"232.389,1423.18 232.389,47.2441 \"/>\n",
       "<polyline clip-path=\"url(#clip450)\" style=\"stroke:#000000; stroke-linecap:round; stroke-linejoin:round; stroke-width:4; stroke-opacity:1; fill:none\" points=\"232.389,1384.24 251.287,1384.24 \"/>\n",
       "<polyline clip-path=\"url(#clip450)\" style=\"stroke:#000000; stroke-linecap:round; stroke-linejoin:round; stroke-width:4; stroke-opacity:1; fill:none\" points=\"232.389,1050.71 251.287,1050.71 \"/>\n",
       "<polyline clip-path=\"url(#clip450)\" style=\"stroke:#000000; stroke-linecap:round; stroke-linejoin:round; stroke-width:4; stroke-opacity:1; fill:none\" points=\"232.389,717.182 251.287,717.182 \"/>\n",
       "<polyline clip-path=\"url(#clip450)\" style=\"stroke:#000000; stroke-linecap:round; stroke-linejoin:round; stroke-width:4; stroke-opacity:1; fill:none\" points=\"232.389,383.653 251.287,383.653 \"/>\n",
       "<polyline clip-path=\"url(#clip450)\" style=\"stroke:#000000; stroke-linecap:round; stroke-linejoin:round; stroke-width:4; stroke-opacity:1; fill:none\" points=\"232.389,50.1249 251.287,50.1249 \"/>\n",
       "<path clip-path=\"url(#clip450)\" d=\"M184.445 1370.04 Q180.834 1370.04 179.005 1373.6 Q177.2 1377.14 177.2 1384.27 Q177.2 1391.38 179.005 1394.94 Q180.834 1398.49 184.445 1398.49 Q188.079 1398.49 189.885 1394.94 Q191.713 1391.38 191.713 1384.27 Q191.713 1377.14 189.885 1373.6 Q188.079 1370.04 184.445 1370.04 M184.445 1366.33 Q190.255 1366.33 193.311 1370.94 Q196.389 1375.52 196.389 1384.27 Q196.389 1393 193.311 1397.61 Q190.255 1402.19 184.445 1402.19 Q178.635 1402.19 175.556 1397.61 Q172.501 1393 172.501 1384.27 Q172.501 1375.52 175.556 1370.94 Q178.635 1366.33 184.445 1366.33 Z\" fill=\"#000000\" fill-rule=\"nonzero\" fill-opacity=\"1\" /><path clip-path=\"url(#clip450)\" d=\"M149.306 1064.05 L165.626 1064.05 L165.626 1067.99 L143.681 1067.99 L143.681 1064.05 Q146.343 1061.3 150.927 1056.67 Q155.533 1052.02 156.714 1050.68 Q158.959 1048.15 159.839 1046.42 Q160.741 1044.66 160.741 1042.97 Q160.741 1040.21 158.797 1038.48 Q156.876 1036.74 153.774 1036.74 Q151.575 1036.74 149.121 1037.5 Q146.691 1038.27 143.913 1039.82 L143.913 1035.1 Q146.737 1033.96 149.191 1033.38 Q151.644 1032.81 153.681 1032.81 Q159.052 1032.81 162.246 1035.49 Q165.44 1038.18 165.44 1042.67 Q165.44 1044.8 164.63 1046.72 Q163.843 1048.62 161.737 1051.21 Q161.158 1051.88 158.056 1055.1 Q154.954 1058.29 149.306 1064.05 Z\" fill=\"#000000\" fill-rule=\"nonzero\" fill-opacity=\"1\" /><path clip-path=\"url(#clip450)\" d=\"M175.487 1033.43 L193.843 1033.43 L193.843 1037.37 L179.769 1037.37 L179.769 1045.84 Q180.788 1045.49 181.806 1045.33 Q182.825 1045.14 183.843 1045.14 Q189.63 1045.14 193.01 1048.31 Q196.389 1051.49 196.389 1056.9 Q196.389 1062.48 192.917 1065.58 Q189.445 1068.66 183.126 1068.66 Q180.95 1068.66 178.681 1068.29 Q176.436 1067.92 174.028 1067.18 L174.028 1062.48 Q176.112 1063.62 178.334 1064.17 Q180.556 1064.73 183.033 1064.73 Q187.038 1064.73 189.375 1062.62 Q191.713 1060.51 191.713 1056.9 Q191.713 1053.29 189.375 1051.18 Q187.038 1049.08 183.033 1049.08 Q181.158 1049.08 179.283 1049.49 Q177.431 1049.91 175.487 1050.79 L175.487 1033.43 Z\" fill=\"#000000\" fill-rule=\"nonzero\" fill-opacity=\"1\" /><path clip-path=\"url(#clip450)\" d=\"M144.329 699.902 L162.686 699.902 L162.686 703.837 L148.612 703.837 L148.612 712.309 Q149.63 711.962 150.649 711.8 Q151.667 711.615 152.686 711.615 Q158.473 711.615 161.852 714.786 Q165.232 717.957 165.232 723.374 Q165.232 728.952 161.76 732.054 Q158.288 735.133 151.968 735.133 Q149.792 735.133 147.524 734.763 Q145.279 734.392 142.871 733.651 L142.871 728.952 Q144.954 730.087 147.177 730.642 Q149.399 731.198 151.876 731.198 Q155.88 731.198 158.218 729.091 Q160.556 726.985 160.556 723.374 Q160.556 719.763 158.218 717.656 Q155.88 715.55 151.876 715.55 Q150.001 715.55 148.126 715.966 Q146.274 716.383 144.329 717.263 L144.329 699.902 Z\" fill=\"#000000\" fill-rule=\"nonzero\" fill-opacity=\"1\" /><path clip-path=\"url(#clip450)\" d=\"M184.445 702.98 Q180.834 702.98 179.005 706.545 Q177.2 710.087 177.2 717.216 Q177.2 724.323 179.005 727.888 Q180.834 731.429 184.445 731.429 Q188.079 731.429 189.885 727.888 Q191.713 724.323 191.713 717.216 Q191.713 710.087 189.885 706.545 Q188.079 702.98 184.445 702.98 M184.445 699.277 Q190.255 699.277 193.311 703.883 Q196.389 708.466 196.389 717.216 Q196.389 725.943 193.311 730.55 Q190.255 735.133 184.445 735.133 Q178.635 735.133 175.556 730.55 Q172.501 725.943 172.501 717.216 Q172.501 708.466 175.556 703.883 Q178.635 699.277 184.445 699.277 Z\" fill=\"#000000\" fill-rule=\"nonzero\" fill-opacity=\"1\" /><path clip-path=\"url(#clip450)\" d=\"M144.098 366.373 L166.32 366.373 L166.32 368.364 L153.774 400.933 L148.89 400.933 L160.695 370.308 L144.098 370.308 L144.098 366.373 Z\" fill=\"#000000\" fill-rule=\"nonzero\" fill-opacity=\"1\" /><path clip-path=\"url(#clip450)\" d=\"M175.487 366.373 L193.843 366.373 L193.843 370.308 L179.769 370.308 L179.769 378.781 Q180.788 378.433 181.806 378.271 Q182.825 378.086 183.843 378.086 Q189.63 378.086 193.01 381.257 Q196.389 384.429 196.389 389.845 Q196.389 395.424 192.917 398.526 Q189.445 401.605 183.126 401.605 Q180.95 401.605 178.681 401.234 Q176.436 400.864 174.028 400.123 L174.028 395.424 Q176.112 396.558 178.334 397.114 Q180.556 397.669 183.033 397.669 Q187.038 397.669 189.375 395.563 Q191.713 393.456 191.713 389.845 Q191.713 386.234 189.375 384.128 Q187.038 382.021 183.033 382.021 Q181.158 382.021 179.283 382.438 Q177.431 382.855 175.487 383.734 L175.487 366.373 Z\" fill=\"#000000\" fill-rule=\"nonzero\" fill-opacity=\"1\" /><path clip-path=\"url(#clip450)\" d=\"M114.931 63.4698 L122.57 63.4698 L122.57 37.1042 L114.26 38.7708 L114.26 34.5116 L122.524 32.8449 L127.2 32.8449 L127.2 63.4698 L134.839 63.4698 L134.839 67.4049 L114.931 67.4049 L114.931 63.4698 Z\" fill=\"#000000\" fill-rule=\"nonzero\" fill-opacity=\"1\" /><path clip-path=\"url(#clip450)\" d=\"M154.283 35.9236 Q150.672 35.9236 148.843 39.4884 Q147.038 43.0301 147.038 50.1597 Q147.038 57.2661 148.843 60.8309 Q150.672 64.3725 154.283 64.3725 Q157.917 64.3725 159.723 60.8309 Q161.552 57.2661 161.552 50.1597 Q161.552 43.0301 159.723 39.4884 Q157.917 35.9236 154.283 35.9236 M154.283 32.2199 Q160.093 32.2199 163.149 36.8264 Q166.227 41.4097 166.227 50.1597 Q166.227 58.8865 163.149 63.4929 Q160.093 68.0762 154.283 68.0762 Q148.473 68.0762 145.394 63.4929 Q142.339 58.8865 142.339 50.1597 Q142.339 41.4097 145.394 36.8264 Q148.473 32.2199 154.283 32.2199 Z\" fill=\"#000000\" fill-rule=\"nonzero\" fill-opacity=\"1\" /><path clip-path=\"url(#clip450)\" d=\"M184.445 35.9236 Q180.834 35.9236 179.005 39.4884 Q177.2 43.0301 177.2 50.1597 Q177.2 57.2661 179.005 60.8309 Q180.834 64.3725 184.445 64.3725 Q188.079 64.3725 189.885 60.8309 Q191.713 57.2661 191.713 50.1597 Q191.713 43.0301 189.885 39.4884 Q188.079 35.9236 184.445 35.9236 M184.445 32.2199 Q190.255 32.2199 193.311 36.8264 Q196.389 41.4097 196.389 50.1597 Q196.389 58.8865 193.311 63.4929 Q190.255 68.0762 184.445 68.0762 Q178.635 68.0762 175.556 63.4929 Q172.501 58.8865 172.501 50.1597 Q172.501 41.4097 175.556 36.8264 Q178.635 32.2199 184.445 32.2199 Z\" fill=\"#000000\" fill-rule=\"nonzero\" fill-opacity=\"1\" /><path clip-path=\"url(#clip450)\" d=\"M18.2347 847.758 L28.3562 847.758 L28.3562 835.695 L32.9077 835.695 L32.9077 847.758 L52.2594 847.758 Q56.6199 847.758 57.8613 846.58 Q59.1026 845.371 59.1026 841.71 L59.1026 835.695 L64.0042 835.695 L64.0042 841.71 Q64.0042 848.49 61.4897 851.068 Q58.9434 853.646 52.2594 853.646 L32.9077 853.646 L32.9077 857.943 L28.3562 857.943 L28.3562 853.646 L18.2347 853.646 L18.2347 847.758 Z\" fill=\"#000000\" fill-rule=\"nonzero\" fill-opacity=\"1\" /><path clip-path=\"url(#clip450)\" d=\"M28.3562 827.992 L28.3562 822.136 L64.0042 822.136 L64.0042 827.992 L28.3562 827.992 M14.479 827.992 L14.479 822.136 L21.895 822.136 L21.895 827.992 L14.479 827.992 Z\" fill=\"#000000\" fill-rule=\"nonzero\" fill-opacity=\"1\" /><path clip-path=\"url(#clip450)\" d=\"M35.1993 782.127 Q31.2526 779.931 29.3747 776.876 Q27.4968 773.82 27.4968 769.682 Q27.4968 764.112 31.4117 761.089 Q35.2948 758.065 42.4881 758.065 L64.0042 758.065 L64.0042 763.953 L42.679 763.953 Q37.5546 763.953 35.072 765.767 Q32.5894 767.582 32.5894 771.306 Q32.5894 775.857 35.6131 778.499 Q38.6368 781.141 43.8567 781.141 L64.0042 781.141 L64.0042 787.029 L42.679 787.029 Q37.5228 787.029 35.072 788.843 Q32.5894 790.657 32.5894 794.445 Q32.5894 798.933 35.6449 801.574 Q38.6686 804.216 43.8567 804.216 L64.0042 804.216 L64.0042 810.105 L28.3562 810.105 L28.3562 804.216 L33.8944 804.216 Q30.616 802.211 29.0564 799.41 Q27.4968 796.609 27.4968 792.758 Q27.4968 788.875 29.4702 786.169 Q31.4436 783.432 35.1993 782.127 Z\" fill=\"#000000\" fill-rule=\"nonzero\" fill-opacity=\"1\" /><path clip-path=\"url(#clip450)\" d=\"M44.7161 715.892 L47.5806 715.892 L47.5806 742.819 Q53.6281 742.437 56.8109 739.191 Q59.9619 735.912 59.9619 730.088 Q59.9619 726.714 59.1344 723.563 Q58.3069 720.38 56.6518 717.261 L62.1899 717.261 Q63.5267 720.412 64.227 723.722 Q64.9272 727.032 64.9272 730.438 Q64.9272 738.968 59.9619 743.965 Q54.9967 748.93 46.5303 748.93 Q37.7774 748.93 32.6531 744.219 Q27.4968 739.477 27.4968 731.456 Q27.4968 724.263 32.1438 720.093 Q36.7589 715.892 44.7161 715.892 M42.9973 721.748 Q38.1912 721.812 35.3266 724.454 Q32.4621 727.064 32.4621 731.393 Q32.4621 736.294 35.2312 739.254 Q38.0002 742.182 43.0292 742.628 L42.9973 721.748 Z\" fill=\"#000000\" fill-rule=\"nonzero\" fill-opacity=\"1\" /><path clip-path=\"url(#clip450)\" d=\"M14.5426 671.491 Q21.8632 675.756 29.0246 677.825 Q36.186 679.894 43.5384 679.894 Q50.8908 679.894 58.1159 677.825 Q65.3091 675.724 72.5979 671.491 L72.5979 676.584 Q65.1182 681.358 57.8931 683.745 Q50.668 686.101 43.5384 686.101 Q36.4406 686.101 29.2474 683.745 Q22.0542 681.39 14.5426 676.584 L14.5426 671.491 Z\" fill=\"#000000\" fill-rule=\"nonzero\" fill-opacity=\"1\" /><path clip-path=\"url(#clip450)\" d=\"M29.4065 637.403 L34.9447 637.403 Q33.6716 639.886 33.035 642.559 Q32.3984 645.233 32.3984 648.097 Q32.3984 652.458 33.7352 654.654 Q35.072 656.818 37.7456 656.818 Q39.7826 656.818 40.9603 655.259 Q42.1061 653.699 43.1565 648.988 L43.6021 646.983 Q44.9389 640.745 47.3897 638.135 Q49.8086 635.493 54.1691 635.493 Q59.1344 635.493 62.0308 639.44 Q64.9272 643.355 64.9272 650.23 Q64.9272 653.094 64.3543 656.214 Q63.8132 659.301 62.6992 662.738 L56.6518 662.738 Q58.3387 659.492 59.198 656.341 Q60.0256 653.19 60.0256 650.102 Q60.0256 645.965 58.6251 643.737 Q57.1929 641.509 54.6147 641.509 Q52.2276 641.509 50.9545 643.132 Q49.6813 644.723 48.5037 650.166 L48.0262 652.203 Q46.8804 657.646 44.5251 660.065 Q42.138 662.484 38.0002 662.484 Q32.9713 662.484 30.2341 658.919 Q27.4968 655.354 27.4968 648.798 Q27.4968 645.551 27.9743 642.686 Q28.4517 639.822 29.4065 637.403 Z\" fill=\"#000000\" fill-rule=\"nonzero\" fill-opacity=\"1\" /><path clip-path=\"url(#clip450)\" d=\"M14.5426 627.09 L14.5426 621.998 Q22.0542 617.224 29.2474 614.868 Q36.4406 612.481 43.5384 612.481 Q50.668 612.481 57.8931 614.868 Q65.1182 617.224 72.5979 621.998 L72.5979 627.09 Q65.3091 622.857 58.1159 620.788 Q50.8908 618.688 43.5384 618.688 Q36.186 618.688 29.0246 620.788 Q21.8632 622.857 14.5426 627.09 Z\" fill=\"#000000\" fill-rule=\"nonzero\" fill-opacity=\"1\" /><polyline clip-path=\"url(#clip452)\" style=\"stroke:#009af9; stroke-linecap:round; stroke-linejoin:round; stroke-width:4; stroke-opacity:1; fill:none\" points=\"292.4,1384.24 514.66,1384.24 736.921,1384.24 959.182,1384.23 1181.44,1384.2 1403.7,1383.62 1625.96,1379.54 1848.22,1364.34 2070.48,1228.19 2292.75,86.1857 \"/>\n",
       "<path clip-path=\"url(#clip450)\" d=\"M303.068 196.789 L618.415 196.789 L618.415 93.1086 L303.068 93.1086  Z\" fill=\"#ffffff\" fill-rule=\"evenodd\" fill-opacity=\"1\"/>\n",
       "<polyline clip-path=\"url(#clip450)\" style=\"stroke:#000000; stroke-linecap:round; stroke-linejoin:round; stroke-width:4; stroke-opacity:1; fill:none\" points=\"303.068,196.789 618.415,196.789 618.415,93.1086 303.068,93.1086 303.068,196.789 \"/>\n",
       "<polyline clip-path=\"url(#clip450)\" style=\"stroke:#009af9; stroke-linecap:round; stroke-linejoin:round; stroke-width:4; stroke-opacity:1; fill:none\" points=\"326.628,144.949 467.986,144.949 \"/>\n",
       "<path clip-path=\"url(#clip450)\" d=\"M498.953 128.942 L498.953 136.303 L507.726 136.303 L507.726 139.613 L498.953 139.613 L498.953 153.687 Q498.953 156.858 499.809 157.761 Q500.689 158.664 503.351 158.664 L507.726 158.664 L507.726 162.229 L503.351 162.229 Q498.42 162.229 496.545 160.4 Q494.67 158.548 494.67 153.687 L494.67 139.613 L491.545 139.613 L491.545 136.303 L494.67 136.303 L494.67 128.942 L498.953 128.942 Z\" fill=\"#000000\" fill-rule=\"nonzero\" fill-opacity=\"1\" /><path clip-path=\"url(#clip450)\" d=\"M513.328 136.303 L517.587 136.303 L517.587 162.229 L513.328 162.229 L513.328 136.303 M513.328 126.21 L517.587 126.21 L517.587 131.604 L513.328 131.604 L513.328 126.21 Z\" fill=\"#000000\" fill-rule=\"nonzero\" fill-opacity=\"1\" /><path clip-path=\"url(#clip450)\" d=\"M546.684 141.28 Q548.281 138.409 550.503 137.044 Q552.725 135.678 555.735 135.678 Q559.786 135.678 561.985 138.525 Q564.184 141.349 564.184 146.581 L564.184 162.229 L559.901 162.229 L559.901 146.719 Q559.901 142.993 558.582 141.187 Q557.263 139.382 554.554 139.382 Q551.244 139.382 549.323 141.581 Q547.401 143.78 547.401 147.576 L547.401 162.229 L543.119 162.229 L543.119 146.719 Q543.119 142.969 541.8 141.187 Q540.48 139.382 537.726 139.382 Q534.462 139.382 532.54 141.604 Q530.619 143.803 530.619 147.576 L530.619 162.229 L526.337 162.229 L526.337 136.303 L530.619 136.303 L530.619 140.331 Q532.077 137.946 534.114 136.812 Q536.152 135.678 538.952 135.678 Q541.776 135.678 543.744 137.113 Q545.735 138.548 546.684 141.28 Z\" fill=\"#000000\" fill-rule=\"nonzero\" fill-opacity=\"1\" /><path clip-path=\"url(#clip450)\" d=\"M594.855 148.201 L594.855 150.284 L575.272 150.284 Q575.549 154.682 577.911 156.997 Q580.295 159.289 584.531 159.289 Q586.985 159.289 589.276 158.687 Q591.591 158.085 593.86 156.881 L593.86 160.909 Q591.568 161.881 589.16 162.391 Q586.753 162.9 584.276 162.9 Q578.073 162.9 574.438 159.289 Q570.827 155.678 570.827 149.52 Q570.827 143.155 574.253 139.428 Q577.702 135.678 583.536 135.678 Q588.767 135.678 591.799 139.057 Q594.855 142.414 594.855 148.201 M590.596 146.951 Q590.549 143.456 588.628 141.372 Q586.73 139.289 583.582 139.289 Q580.017 139.289 577.864 141.303 Q575.735 143.317 575.411 146.974 L590.596 146.951 Z\" fill=\"#000000\" fill-rule=\"nonzero\" fill-opacity=\"1\" /></svg>\n"
      ]
     },
     "execution_count": 9,
     "metadata": {},
     "output_type": "execute_result"
    }
   ],
   "source": [
    "plot(times, label=\"time\", xlabel=\"log2(n)\", ylabel=\"time (s)\")\n"
   ]
  },
  {
   "cell_type": "code",
   "execution_count": 10,
   "id": "07f1b0f4",
   "metadata": {
    "tags": []
   },
   "outputs": [
    {
     "data": {
      "image/svg+xml": [
       "<?xml version=\"1.0\" encoding=\"utf-8\"?>\n",
       "<svg xmlns=\"http://www.w3.org/2000/svg\" xmlns:xlink=\"http://www.w3.org/1999/xlink\" width=\"600\" height=\"400\" viewBox=\"0 0 2400 1600\">\n",
       "<defs>\n",
       "  <clipPath id=\"clip490\">\n",
       "    <rect x=\"0\" y=\"0\" width=\"2400\" height=\"1600\"/>\n",
       "  </clipPath>\n",
       "</defs>\n",
       "<path clip-path=\"url(#clip490)\" d=\"M0 1600 L2400 1600 L2400 0 L0 0  Z\" fill=\"#ffffff\" fill-rule=\"evenodd\" fill-opacity=\"1\"/>\n",
       "<defs>\n",
       "  <clipPath id=\"clip491\">\n",
       "    <rect x=\"480\" y=\"0\" width=\"1681\" height=\"1600\"/>\n",
       "  </clipPath>\n",
       "</defs>\n",
       "<path clip-path=\"url(#clip490)\" d=\"M368.315 1423.18 L2352.76 1423.18 L2352.76 47.2441 L368.315 47.2441  Z\" fill=\"#ffffff\" fill-rule=\"evenodd\" fill-opacity=\"1\"/>\n",
       "<defs>\n",
       "  <clipPath id=\"clip492\">\n",
       "    <rect x=\"368\" y=\"47\" width=\"1985\" height=\"1377\"/>\n",
       "  </clipPath>\n",
       "</defs>\n",
       "<polyline clip-path=\"url(#clip492)\" style=\"stroke:#000000; stroke-linecap:round; stroke-linejoin:round; stroke-width:2; stroke-opacity:0.1; fill:none\" points=\"632.491,1423.18 632.491,47.2441 \"/>\n",
       "<polyline clip-path=\"url(#clip492)\" style=\"stroke:#000000; stroke-linecap:round; stroke-linejoin:round; stroke-width:2; stroke-opacity:0.1; fill:none\" points=\"1048.52,1423.18 1048.52,47.2441 \"/>\n",
       "<polyline clip-path=\"url(#clip492)\" style=\"stroke:#000000; stroke-linecap:round; stroke-linejoin:round; stroke-width:2; stroke-opacity:0.1; fill:none\" points=\"1464.54,1423.18 1464.54,47.2441 \"/>\n",
       "<polyline clip-path=\"url(#clip492)\" style=\"stroke:#000000; stroke-linecap:round; stroke-linejoin:round; stroke-width:2; stroke-opacity:0.1; fill:none\" points=\"1880.57,1423.18 1880.57,47.2441 \"/>\n",
       "<polyline clip-path=\"url(#clip492)\" style=\"stroke:#000000; stroke-linecap:round; stroke-linejoin:round; stroke-width:2; stroke-opacity:0.1; fill:none\" points=\"2296.59,1423.18 2296.59,47.2441 \"/>\n",
       "<polyline clip-path=\"url(#clip490)\" style=\"stroke:#000000; stroke-linecap:round; stroke-linejoin:round; stroke-width:4; stroke-opacity:1; fill:none\" points=\"368.315,1423.18 2352.76,1423.18 \"/>\n",
       "<polyline clip-path=\"url(#clip490)\" style=\"stroke:#000000; stroke-linecap:round; stroke-linejoin:round; stroke-width:4; stroke-opacity:1; fill:none\" points=\"632.491,1423.18 632.491,1404.28 \"/>\n",
       "<polyline clip-path=\"url(#clip490)\" style=\"stroke:#000000; stroke-linecap:round; stroke-linejoin:round; stroke-width:4; stroke-opacity:1; fill:none\" points=\"1048.52,1423.18 1048.52,1404.28 \"/>\n",
       "<polyline clip-path=\"url(#clip490)\" style=\"stroke:#000000; stroke-linecap:round; stroke-linejoin:round; stroke-width:4; stroke-opacity:1; fill:none\" points=\"1464.54,1423.18 1464.54,1404.28 \"/>\n",
       "<polyline clip-path=\"url(#clip490)\" style=\"stroke:#000000; stroke-linecap:round; stroke-linejoin:round; stroke-width:4; stroke-opacity:1; fill:none\" points=\"1880.57,1423.18 1880.57,1404.28 \"/>\n",
       "<polyline clip-path=\"url(#clip490)\" style=\"stroke:#000000; stroke-linecap:round; stroke-linejoin:round; stroke-width:4; stroke-opacity:1; fill:none\" points=\"2296.59,1423.18 2296.59,1404.28 \"/>\n",
       "<path clip-path=\"url(#clip490)\" d=\"M627.144 1481.64 L643.463 1481.64 L643.463 1485.58 L621.519 1485.58 L621.519 1481.64 Q624.181 1478.89 628.764 1474.26 Q633.37 1469.61 634.551 1468.27 Q636.796 1465.74 637.676 1464.01 Q638.579 1462.25 638.579 1460.56 Q638.579 1457.8 636.634 1456.07 Q634.713 1454.33 631.611 1454.33 Q629.412 1454.33 626.958 1455.09 Q624.528 1455.86 621.75 1457.41 L621.75 1452.69 Q624.574 1451.55 627.028 1450.97 Q629.481 1450.39 631.518 1450.39 Q636.889 1450.39 640.083 1453.08 Q643.278 1455.77 643.278 1460.26 Q643.278 1462.39 642.467 1464.31 Q641.68 1466.2 639.574 1468.8 Q638.995 1469.47 635.893 1472.69 Q632.792 1475.88 627.144 1481.64 Z\" fill=\"#000000\" fill-rule=\"nonzero\" fill-opacity=\"1\" /><path clip-path=\"url(#clip490)\" d=\"M1051.53 1455.09 L1039.72 1473.54 L1051.53 1473.54 L1051.53 1455.09 M1050.3 1451.02 L1056.18 1451.02 L1056.18 1473.54 L1061.11 1473.54 L1061.11 1477.43 L1056.18 1477.43 L1056.18 1485.58 L1051.53 1485.58 L1051.53 1477.43 L1035.92 1477.43 L1035.92 1472.92 L1050.3 1451.02 Z\" fill=\"#000000\" fill-rule=\"nonzero\" fill-opacity=\"1\" /><path clip-path=\"url(#clip490)\" d=\"M1464.95 1466.44 Q1461.8 1466.44 1459.95 1468.59 Q1458.12 1470.74 1458.12 1474.49 Q1458.12 1478.22 1459.95 1480.39 Q1461.8 1482.55 1464.95 1482.55 Q1468.09 1482.55 1469.92 1480.39 Q1471.78 1478.22 1471.78 1474.49 Q1471.78 1470.74 1469.92 1468.59 Q1468.09 1466.44 1464.95 1466.44 M1474.23 1451.78 L1474.23 1456.04 Q1472.47 1455.21 1470.66 1454.77 Q1468.88 1454.33 1467.12 1454.33 Q1462.49 1454.33 1460.04 1457.45 Q1457.61 1460.58 1457.26 1466.9 Q1458.63 1464.89 1460.69 1463.82 Q1462.75 1462.73 1465.22 1462.73 Q1470.43 1462.73 1473.44 1465.9 Q1476.47 1469.05 1476.47 1474.49 Q1476.47 1479.82 1473.33 1483.03 Q1470.18 1486.25 1464.95 1486.25 Q1458.95 1486.25 1455.78 1481.67 Q1452.61 1477.06 1452.61 1468.33 Q1452.61 1460.14 1456.5 1455.28 Q1460.39 1450.39 1466.94 1450.39 Q1468.7 1450.39 1470.48 1450.74 Q1472.28 1451.09 1474.23 1451.78 Z\" fill=\"#000000\" fill-rule=\"nonzero\" fill-opacity=\"1\" /><path clip-path=\"url(#clip490)\" d=\"M1880.57 1469.17 Q1877.23 1469.17 1875.31 1470.95 Q1873.41 1472.73 1873.41 1475.86 Q1873.41 1478.98 1875.31 1480.77 Q1877.23 1482.55 1880.57 1482.55 Q1883.9 1482.55 1885.82 1480.77 Q1887.74 1478.96 1887.74 1475.86 Q1887.74 1472.73 1885.82 1470.95 Q1883.92 1469.17 1880.57 1469.17 M1875.89 1467.18 Q1872.88 1466.44 1871.19 1464.38 Q1869.53 1462.32 1869.53 1459.35 Q1869.53 1455.21 1872.47 1452.8 Q1875.43 1450.39 1880.57 1450.39 Q1885.73 1450.39 1888.67 1452.8 Q1891.61 1455.21 1891.61 1459.35 Q1891.61 1462.32 1889.92 1464.38 Q1888.25 1466.44 1885.27 1467.18 Q1888.65 1467.96 1890.52 1470.26 Q1892.42 1472.55 1892.42 1475.86 Q1892.42 1480.88 1889.34 1483.57 Q1886.28 1486.25 1880.57 1486.25 Q1874.85 1486.25 1871.77 1483.57 Q1868.72 1480.88 1868.72 1475.86 Q1868.72 1472.55 1870.61 1470.26 Q1872.51 1467.96 1875.89 1467.18 M1874.18 1459.79 Q1874.18 1462.48 1875.84 1463.98 Q1877.53 1465.49 1880.57 1465.49 Q1883.58 1465.49 1885.27 1463.98 Q1886.98 1462.48 1886.98 1459.79 Q1886.98 1457.11 1885.27 1455.6 Q1883.58 1454.1 1880.57 1454.1 Q1877.53 1454.1 1875.84 1455.6 Q1874.18 1457.11 1874.18 1459.79 Z\" fill=\"#000000\" fill-rule=\"nonzero\" fill-opacity=\"1\" /><path clip-path=\"url(#clip490)\" d=\"M2271.28 1481.64 L2278.92 1481.64 L2278.92 1455.28 L2270.61 1456.95 L2270.61 1452.69 L2278.87 1451.02 L2283.55 1451.02 L2283.55 1481.64 L2291.19 1481.64 L2291.19 1485.58 L2271.28 1485.58 L2271.28 1481.64 Z\" fill=\"#000000\" fill-rule=\"nonzero\" fill-opacity=\"1\" /><path clip-path=\"url(#clip490)\" d=\"M2310.63 1454.1 Q2307.02 1454.1 2305.19 1457.66 Q2303.39 1461.2 2303.39 1468.33 Q2303.39 1475.44 2305.19 1479.01 Q2307.02 1482.55 2310.63 1482.55 Q2314.27 1482.55 2316.07 1479.01 Q2317.9 1475.44 2317.9 1468.33 Q2317.9 1461.2 2316.07 1457.66 Q2314.27 1454.1 2310.63 1454.1 M2310.63 1450.39 Q2316.44 1450.39 2319.5 1455 Q2322.58 1459.58 2322.58 1468.33 Q2322.58 1477.06 2319.5 1481.67 Q2316.44 1486.25 2310.63 1486.25 Q2304.82 1486.25 2301.74 1481.67 Q2298.69 1477.06 2298.69 1468.33 Q2298.69 1459.58 2301.74 1455 Q2304.82 1450.39 2310.63 1450.39 Z\" fill=\"#000000\" fill-rule=\"nonzero\" fill-opacity=\"1\" /><path clip-path=\"url(#clip490)\" d=\"M1249.9 1518.52 L1255.76 1518.52 L1255.76 1568.04 L1249.9 1568.04 L1249.9 1518.52 Z\" fill=\"#000000\" fill-rule=\"nonzero\" fill-opacity=\"1\" /><path clip-path=\"url(#clip490)\" d=\"M1281.82 1536.5 Q1277.11 1536.5 1274.38 1540.19 Q1271.64 1543.85 1271.64 1550.25 Q1271.64 1556.65 1274.34 1560.34 Q1277.08 1564 1281.82 1564 Q1286.5 1564 1289.24 1560.31 Q1291.98 1556.62 1291.98 1550.25 Q1291.98 1543.92 1289.24 1540.23 Q1286.5 1536.5 1281.82 1536.5 M1281.82 1531.54 Q1289.46 1531.54 1293.82 1536.5 Q1298.18 1541.47 1298.18 1550.25 Q1298.18 1559 1293.82 1564 Q1289.46 1568.97 1281.82 1568.97 Q1274.15 1568.97 1269.79 1564 Q1265.46 1559 1265.46 1550.25 Q1265.46 1541.47 1269.79 1536.5 Q1274.15 1531.54 1281.82 1531.54 Z\" fill=\"#000000\" fill-rule=\"nonzero\" fill-opacity=\"1\" /><path clip-path=\"url(#clip490)\" d=\"M1331.35 1549.81 Q1331.35 1543.44 1328.71 1539.94 Q1326.1 1536.44 1321.35 1536.44 Q1316.64 1536.44 1314 1539.94 Q1311.39 1543.44 1311.39 1549.81 Q1311.39 1556.14 1314 1559.64 Q1316.64 1563.14 1321.35 1563.14 Q1326.1 1563.14 1328.71 1559.64 Q1331.35 1556.14 1331.35 1549.81 M1337.2 1563.62 Q1337.2 1572.72 1333.16 1577.15 Q1329.12 1581.6 1320.78 1581.6 Q1317.69 1581.6 1314.96 1581.13 Q1312.22 1580.68 1309.64 1579.72 L1309.64 1574.03 Q1312.22 1575.43 1314.73 1576.1 Q1317.25 1576.76 1319.86 1576.76 Q1325.62 1576.76 1328.48 1573.74 Q1331.35 1570.75 1331.35 1564.67 L1331.35 1561.77 Q1329.53 1564.92 1326.7 1566.48 Q1323.87 1568.04 1319.92 1568.04 Q1313.37 1568.04 1309.35 1563.05 Q1305.34 1558.05 1305.34 1549.81 Q1305.34 1541.53 1309.35 1536.53 Q1313.37 1531.54 1319.92 1531.54 Q1323.87 1531.54 1326.7 1533.1 Q1329.53 1534.66 1331.35 1537.81 L1331.35 1532.4 L1337.2 1532.4 L1337.2 1563.62 Z\" fill=\"#000000\" fill-rule=\"nonzero\" fill-opacity=\"1\" /><path clip-path=\"url(#clip490)\" d=\"M1355.63 1562.63 L1378.07 1562.63 L1378.07 1568.04 L1347.9 1568.04 L1347.9 1562.63 Q1351.56 1558.85 1357.86 1552.48 Q1364.2 1546.08 1365.82 1544.24 Q1368.91 1540.77 1370.12 1538.38 Q1371.36 1535.96 1371.36 1533.64 Q1371.36 1529.85 1368.68 1527.46 Q1366.04 1525.08 1361.78 1525.08 Q1358.75 1525.08 1355.38 1526.13 Q1352.04 1527.18 1348.22 1529.31 L1348.22 1522.82 Q1352.1 1521.26 1355.47 1520.46 Q1358.85 1519.66 1361.65 1519.66 Q1369.03 1519.66 1373.43 1523.36 Q1377.82 1527.05 1377.82 1533.22 Q1377.82 1536.15 1376.7 1538.79 Q1375.62 1541.4 1372.73 1544.97 Q1371.93 1545.89 1367.66 1550.32 Q1363.4 1554.71 1355.63 1562.63 Z\" fill=\"#000000\" fill-rule=\"nonzero\" fill-opacity=\"1\" /><path clip-path=\"url(#clip490)\" d=\"M1404.81 1518.58 Q1400.54 1525.9 1398.47 1533.06 Q1396.41 1540.23 1396.41 1547.58 Q1396.41 1554.93 1398.47 1562.16 Q1400.58 1569.35 1404.81 1576.64 L1399.72 1576.64 Q1394.94 1569.16 1392.55 1561.93 Q1390.2 1554.71 1390.2 1547.58 Q1390.2 1540.48 1392.55 1533.29 Q1394.91 1526.09 1399.72 1518.58 L1404.81 1518.58 Z\" fill=\"#000000\" fill-rule=\"nonzero\" fill-opacity=\"1\" /><path clip-path=\"url(#clip490)\" d=\"M1445.8 1546.53 L1445.8 1568.04 L1439.95 1568.04 L1439.95 1546.72 Q1439.95 1541.66 1437.97 1539.14 Q1436 1536.63 1432.05 1536.63 Q1427.31 1536.63 1424.57 1539.65 Q1421.84 1542.68 1421.84 1547.9 L1421.84 1568.04 L1415.95 1568.04 L1415.95 1532.4 L1421.84 1532.4 L1421.84 1537.93 Q1423.94 1534.72 1426.77 1533.13 Q1429.63 1531.54 1433.36 1531.54 Q1439.5 1531.54 1442.65 1535.36 Q1445.8 1539.14 1445.8 1546.53 Z\" fill=\"#000000\" fill-rule=\"nonzero\" fill-opacity=\"1\" /><path clip-path=\"url(#clip490)\" d=\"M1456.56 1518.58 L1461.65 1518.58 Q1466.43 1526.09 1468.78 1533.29 Q1471.17 1540.48 1471.17 1547.58 Q1471.17 1554.71 1468.78 1561.93 Q1466.43 1569.16 1461.65 1576.64 L1456.56 1576.64 Q1460.8 1569.35 1462.86 1562.16 Q1464.96 1554.93 1464.96 1547.58 Q1464.96 1540.23 1462.86 1533.06 Q1460.8 1525.9 1456.56 1518.58 Z\" fill=\"#000000\" fill-rule=\"nonzero\" fill-opacity=\"1\" /><polyline clip-path=\"url(#clip492)\" style=\"stroke:#000000; stroke-linecap:round; stroke-linejoin:round; stroke-width:2; stroke-opacity:0.1; fill:none\" points=\"368.315,1384.24 2352.76,1384.24 \"/>\n",
       "<polyline clip-path=\"url(#clip492)\" style=\"stroke:#000000; stroke-linecap:round; stroke-linejoin:round; stroke-width:2; stroke-opacity:0.1; fill:none\" points=\"368.315,1021.57 2352.76,1021.57 \"/>\n",
       "<polyline clip-path=\"url(#clip492)\" style=\"stroke:#000000; stroke-linecap:round; stroke-linejoin:round; stroke-width:2; stroke-opacity:0.1; fill:none\" points=\"368.315,658.894 2352.76,658.894 \"/>\n",
       "<polyline clip-path=\"url(#clip492)\" style=\"stroke:#000000; stroke-linecap:round; stroke-linejoin:round; stroke-width:2; stroke-opacity:0.1; fill:none\" points=\"368.315,296.222 2352.76,296.222 \"/>\n",
       "<polyline clip-path=\"url(#clip490)\" style=\"stroke:#000000; stroke-linecap:round; stroke-linejoin:round; stroke-width:4; stroke-opacity:1; fill:none\" points=\"368.315,1423.18 368.315,47.2441 \"/>\n",
       "<polyline clip-path=\"url(#clip490)\" style=\"stroke:#000000; stroke-linecap:round; stroke-linejoin:round; stroke-width:4; stroke-opacity:1; fill:none\" points=\"368.315,1384.24 387.212,1384.24 \"/>\n",
       "<polyline clip-path=\"url(#clip490)\" style=\"stroke:#000000; stroke-linecap:round; stroke-linejoin:round; stroke-width:4; stroke-opacity:1; fill:none\" points=\"368.315,1021.57 387.212,1021.57 \"/>\n",
       "<polyline clip-path=\"url(#clip490)\" style=\"stroke:#000000; stroke-linecap:round; stroke-linejoin:round; stroke-width:4; stroke-opacity:1; fill:none\" points=\"368.315,658.894 387.212,658.894 \"/>\n",
       "<polyline clip-path=\"url(#clip490)\" style=\"stroke:#000000; stroke-linecap:round; stroke-linejoin:round; stroke-width:4; stroke-opacity:1; fill:none\" points=\"368.315,296.222 387.212,296.222 \"/>\n",
       "<path clip-path=\"url(#clip490)\" d=\"M320.37 1370.04 Q316.759 1370.04 314.93 1373.6 Q313.125 1377.14 313.125 1384.27 Q313.125 1391.38 314.93 1394.94 Q316.759 1398.49 320.37 1398.49 Q324.004 1398.49 325.81 1394.94 Q327.639 1391.38 327.639 1384.27 Q327.639 1377.14 325.81 1373.6 Q324.004 1370.04 320.37 1370.04 M320.37 1366.33 Q326.18 1366.33 329.236 1370.94 Q332.315 1375.52 332.315 1384.27 Q332.315 1393 329.236 1397.61 Q326.18 1402.19 320.37 1402.19 Q314.56 1402.19 311.481 1397.61 Q308.426 1393 308.426 1384.27 Q308.426 1375.52 311.481 1370.94 Q314.56 1366.33 320.37 1366.33 Z\" fill=\"#000000\" fill-rule=\"nonzero\" fill-opacity=\"1\" /><path clip-path=\"url(#clip490)\" d=\"M115.718 1010.73 L134.075 1010.73 L134.075 1014.67 L120.001 1014.67 L120.001 1023.14 Q121.019 1022.79 122.038 1022.63 Q123.056 1022.45 124.075 1022.45 Q129.862 1022.45 133.242 1025.62 Q136.621 1028.79 136.621 1034.21 Q136.621 1039.78 133.149 1042.89 Q129.677 1045.97 123.357 1045.97 Q121.181 1045.97 118.913 1045.59 Q116.668 1045.22 114.26 1044.48 L114.26 1039.78 Q116.343 1040.92 118.566 1041.47 Q120.788 1042.03 123.265 1042.03 Q127.269 1042.03 129.607 1039.92 Q131.945 1037.82 131.945 1034.21 Q131.945 1030.59 129.607 1028.49 Q127.269 1026.38 123.265 1026.38 Q121.39 1026.38 119.515 1026.8 Q117.663 1027.22 115.718 1028.09 L115.718 1010.73 Z\" fill=\"#000000\" fill-rule=\"nonzero\" fill-opacity=\"1\" /><path clip-path=\"url(#clip490)\" d=\"M145.834 1039.41 L150.718 1039.41 L150.718 1045.29 L145.834 1045.29 L145.834 1039.41 Z\" fill=\"#000000\" fill-rule=\"nonzero\" fill-opacity=\"1\" /><path clip-path=\"url(#clip490)\" d=\"M170.903 1013.81 Q167.292 1013.81 165.464 1017.38 Q163.658 1020.92 163.658 1028.05 Q163.658 1035.15 165.464 1038.72 Q167.292 1042.26 170.903 1042.26 Q174.538 1042.26 176.343 1038.72 Q178.172 1035.15 178.172 1028.05 Q178.172 1020.92 176.343 1017.38 Q174.538 1013.81 170.903 1013.81 M170.903 1010.11 Q176.714 1010.11 179.769 1014.72 Q182.848 1019.3 182.848 1028.05 Q182.848 1036.78 179.769 1041.38 Q176.714 1045.97 170.903 1045.97 Q165.093 1045.97 162.015 1041.38 Q158.959 1036.78 158.959 1028.05 Q158.959 1019.3 162.015 1014.72 Q165.093 1010.11 170.903 1010.11 Z\" fill=\"#000000\" fill-rule=\"nonzero\" fill-opacity=\"1\" /><path clip-path=\"url(#clip490)\" d=\"M201.065 1013.81 Q197.454 1013.81 195.625 1017.38 Q193.82 1020.92 193.82 1028.05 Q193.82 1035.15 195.625 1038.72 Q197.454 1042.26 201.065 1042.26 Q204.699 1042.26 206.505 1038.72 Q208.334 1035.15 208.334 1028.05 Q208.334 1020.92 206.505 1017.38 Q204.699 1013.81 201.065 1013.81 M201.065 1010.11 Q206.875 1010.11 209.931 1014.72 Q213.01 1019.3 213.01 1028.05 Q213.01 1036.78 209.931 1041.38 Q206.875 1045.97 201.065 1045.97 Q195.255 1045.97 192.176 1041.38 Q189.121 1036.78 189.121 1028.05 Q189.121 1019.3 192.176 1014.72 Q195.255 1010.11 201.065 1010.11 Z\" fill=\"#000000\" fill-rule=\"nonzero\" fill-opacity=\"1\" /><path clip-path=\"url(#clip490)\" d=\"M249.398 1019.83 L238.82 1030.46 L249.398 1041.03 L246.644 1043.84 L236.019 1033.21 L225.394 1043.84 L222.662 1041.03 L233.218 1030.46 L222.662 1019.83 L225.394 1017.03 L236.019 1027.66 L246.644 1017.03 L249.398 1019.83 Z\" fill=\"#000000\" fill-rule=\"nonzero\" fill-opacity=\"1\" /><path clip-path=\"url(#clip490)\" d=\"M261.759 1041.36 L269.398 1041.36 L269.398 1014.99 L261.088 1016.66 L261.088 1012.4 L269.352 1010.73 L274.028 1010.73 L274.028 1041.36 L281.667 1041.36 L281.667 1045.29 L261.759 1045.29 L261.759 1041.36 Z\" fill=\"#000000\" fill-rule=\"nonzero\" fill-opacity=\"1\" /><path clip-path=\"url(#clip490)\" d=\"M301.111 1013.81 Q297.5 1013.81 295.671 1017.38 Q293.866 1020.92 293.866 1028.05 Q293.866 1035.15 295.671 1038.72 Q297.5 1042.26 301.111 1042.26 Q304.745 1042.26 306.551 1038.72 Q308.379 1035.15 308.379 1028.05 Q308.379 1020.92 306.551 1017.38 Q304.745 1013.81 301.111 1013.81 M301.111 1010.11 Q306.921 1010.11 309.977 1014.72 Q313.055 1019.3 313.055 1028.05 Q313.055 1036.78 309.977 1041.38 Q306.921 1045.97 301.111 1045.97 Q295.301 1045.97 292.222 1041.38 Q289.167 1036.78 289.167 1028.05 Q289.167 1019.3 292.222 1014.72 Q295.301 1010.11 301.111 1010.11 Z\" fill=\"#000000\" fill-rule=\"nonzero\" fill-opacity=\"1\" /><path clip-path=\"url(#clip490)\" d=\"M322.685 1004.55 Q319.977 1004.55 318.416 1006 Q316.873 1007.45 316.873 1009.98 Q316.873 1012.52 318.416 1013.97 Q319.977 1015.42 322.685 1015.42 Q325.393 1015.42 326.954 1013.97 Q328.515 1012.5 328.515 1009.98 Q328.515 1007.45 326.954 1006 Q325.412 1004.55 322.685 1004.55 M318.886 1002.93 Q316.441 1002.33 315.068 1000.66 Q313.714 998.982 313.714 996.574 Q313.714 993.208 316.102 991.252 Q318.51 989.296 322.685 989.296 Q326.879 989.296 329.268 991.252 Q331.656 993.208 331.656 996.574 Q331.656 998.982 330.283 1000.66 Q328.929 1002.33 326.503 1002.93 Q329.249 1003.57 330.772 1005.43 Q332.315 1007.29 332.315 1009.98 Q332.315 1014.07 329.813 1016.25 Q327.33 1018.43 322.685 1018.43 Q318.039 1018.43 315.538 1016.25 Q313.055 1014.07 313.055 1009.98 Q313.055 1007.29 314.598 1005.43 Q316.14 1003.57 318.886 1002.93 M317.494 996.932 Q317.494 999.113 318.848 1000.34 Q320.221 1001.56 322.685 1001.56 Q325.13 1001.56 326.503 1000.34 Q327.895 999.113 327.895 996.932 Q327.895 994.75 326.503 993.527 Q325.13 992.305 322.685 992.305 Q320.221 992.305 318.848 993.527 Q317.494 994.75 317.494 996.932 Z\" fill=\"#000000\" fill-rule=\"nonzero\" fill-opacity=\"1\" /><path clip-path=\"url(#clip490)\" d=\"M116.37 678.687 L124.008 678.687 L124.008 652.321 L115.698 653.988 L115.698 649.728 L123.962 648.062 L128.638 648.062 L128.638 678.687 L136.277 678.687 L136.277 682.622 L116.37 682.622 L116.37 678.687 Z\" fill=\"#000000\" fill-rule=\"nonzero\" fill-opacity=\"1\" /><path clip-path=\"url(#clip490)\" d=\"M145.721 676.742 L150.605 676.742 L150.605 682.622 L145.721 682.622 L145.721 676.742 Z\" fill=\"#000000\" fill-rule=\"nonzero\" fill-opacity=\"1\" /><path clip-path=\"url(#clip490)\" d=\"M170.791 651.14 Q167.179 651.14 165.351 654.705 Q163.545 658.247 163.545 665.376 Q163.545 672.483 165.351 676.048 Q167.179 679.589 170.791 679.589 Q174.425 679.589 176.23 676.048 Q178.059 672.483 178.059 665.376 Q178.059 658.247 176.23 654.705 Q174.425 651.14 170.791 651.14 M170.791 647.437 Q176.601 647.437 179.656 652.043 Q182.735 656.627 182.735 665.376 Q182.735 674.103 179.656 678.71 Q176.601 683.293 170.791 683.293 Q164.98 683.293 161.902 678.71 Q158.846 674.103 158.846 665.376 Q158.846 656.627 161.902 652.043 Q164.98 647.437 170.791 647.437 Z\" fill=\"#000000\" fill-rule=\"nonzero\" fill-opacity=\"1\" /><path clip-path=\"url(#clip490)\" d=\"M200.952 651.14 Q197.341 651.14 195.513 654.705 Q193.707 658.247 193.707 665.376 Q193.707 672.483 195.513 676.048 Q197.341 679.589 200.952 679.589 Q204.587 679.589 206.392 676.048 Q208.221 672.483 208.221 665.376 Q208.221 658.247 206.392 654.705 Q204.587 651.14 200.952 651.14 M200.952 647.437 Q206.763 647.437 209.818 652.043 Q212.897 656.627 212.897 665.376 Q212.897 674.103 209.818 678.71 Q206.763 683.293 200.952 683.293 Q195.142 683.293 192.064 678.71 Q189.008 674.103 189.008 665.376 Q189.008 656.627 192.064 652.043 Q195.142 647.437 200.952 647.437 Z\" fill=\"#000000\" fill-rule=\"nonzero\" fill-opacity=\"1\" /><path clip-path=\"url(#clip490)\" d=\"M249.285 657.159 L238.707 667.784 L249.285 678.363 L246.531 681.163 L235.906 670.538 L225.281 681.163 L222.55 678.363 L233.105 667.784 L222.55 657.159 L225.281 654.358 L235.906 664.983 L246.531 654.358 L249.285 657.159 Z\" fill=\"#000000\" fill-rule=\"nonzero\" fill-opacity=\"1\" /><path clip-path=\"url(#clip490)\" d=\"M261.647 678.687 L269.285 678.687 L269.285 652.321 L260.975 653.988 L260.975 649.728 L269.239 648.062 L273.915 648.062 L273.915 678.687 L281.554 678.687 L281.554 682.622 L261.647 682.622 L261.647 678.687 Z\" fill=\"#000000\" fill-rule=\"nonzero\" fill-opacity=\"1\" /><path clip-path=\"url(#clip490)\" d=\"M300.998 651.14 Q297.387 651.14 295.558 654.705 Q293.753 658.247 293.753 665.376 Q293.753 672.483 295.558 676.048 Q297.387 679.589 300.998 679.589 Q304.632 679.589 306.438 676.048 Q308.267 672.483 308.267 665.376 Q308.267 658.247 306.438 654.705 Q304.632 651.14 300.998 651.14 M300.998 647.437 Q306.808 647.437 309.864 652.043 Q312.943 656.627 312.943 665.376 Q312.943 674.103 309.864 678.71 Q306.808 683.293 300.998 683.293 Q295.188 683.293 292.109 678.71 Q289.054 674.103 289.054 665.376 Q289.054 656.627 292.109 652.043 Q295.188 647.437 300.998 647.437 Z\" fill=\"#000000\" fill-rule=\"nonzero\" fill-opacity=\"1\" /><path clip-path=\"url(#clip490)\" d=\"M314.748 654.628 L314.748 651.168 Q316.177 651.845 317.644 652.202 Q319.111 652.559 320.522 652.559 Q324.284 652.559 326.258 650.039 Q328.252 647.5 328.534 642.347 Q327.443 643.964 325.769 644.829 Q324.096 645.695 322.064 645.695 Q317.851 645.695 315.388 643.156 Q312.943 640.598 312.943 636.178 Q312.943 631.852 315.5 629.238 Q318.058 626.624 322.309 626.624 Q327.18 626.624 329.738 630.366 Q332.315 634.09 332.315 641.2 Q332.315 647.839 329.155 651.807 Q326.014 655.757 320.691 655.757 Q319.262 655.757 317.795 655.475 Q316.328 655.193 314.748 654.628 M322.309 642.723 Q324.867 642.723 326.352 640.974 Q327.857 639.225 327.857 636.178 Q327.857 633.15 326.352 631.401 Q324.867 629.633 322.309 629.633 Q319.751 629.633 318.246 631.401 Q316.761 633.15 316.761 636.178 Q316.761 639.225 318.246 640.974 Q319.751 642.723 322.309 642.723 Z\" fill=\"#000000\" fill-rule=\"nonzero\" fill-opacity=\"1\" /><path clip-path=\"url(#clip490)\" d=\"M116.37 316.015 L124.008 316.015 L124.008 289.649 L115.698 291.316 L115.698 287.056 L123.962 285.39 L128.638 285.39 L128.638 316.015 L136.277 316.015 L136.277 319.95 L116.37 319.95 L116.37 316.015 Z\" fill=\"#000000\" fill-rule=\"nonzero\" fill-opacity=\"1\" /><path clip-path=\"url(#clip490)\" d=\"M145.721 314.07 L150.605 314.07 L150.605 319.95 L145.721 319.95 L145.721 314.07 Z\" fill=\"#000000\" fill-rule=\"nonzero\" fill-opacity=\"1\" /><path clip-path=\"url(#clip490)\" d=\"M160.837 285.39 L179.193 285.39 L179.193 289.325 L165.119 289.325 L165.119 297.797 Q166.138 297.45 167.156 297.288 Q168.175 297.103 169.193 297.103 Q174.98 297.103 178.36 300.274 Q181.74 303.445 181.74 308.862 Q181.74 314.44 178.267 317.542 Q174.795 320.621 168.476 320.621 Q166.3 320.621 164.031 320.251 Q161.786 319.88 159.379 319.14 L159.379 314.44 Q161.462 315.575 163.684 316.13 Q165.906 316.686 168.383 316.686 Q172.388 316.686 174.726 314.579 Q177.064 312.473 177.064 308.862 Q177.064 305.251 174.726 303.144 Q172.388 301.038 168.383 301.038 Q166.508 301.038 164.633 301.454 Q162.781 301.871 160.837 302.751 L160.837 285.39 Z\" fill=\"#000000\" fill-rule=\"nonzero\" fill-opacity=\"1\" /><path clip-path=\"url(#clip490)\" d=\"M200.952 288.468 Q197.341 288.468 195.513 292.033 Q193.707 295.575 193.707 302.704 Q193.707 309.811 195.513 313.376 Q197.341 316.917 200.952 316.917 Q204.587 316.917 206.392 313.376 Q208.221 309.811 208.221 302.704 Q208.221 295.575 206.392 292.033 Q204.587 288.468 200.952 288.468 M200.952 284.765 Q206.763 284.765 209.818 289.371 Q212.897 293.954 212.897 302.704 Q212.897 311.431 209.818 316.038 Q206.763 320.621 200.952 320.621 Q195.142 320.621 192.064 316.038 Q189.008 311.431 189.008 302.704 Q189.008 293.954 192.064 289.371 Q195.142 284.765 200.952 284.765 Z\" fill=\"#000000\" fill-rule=\"nonzero\" fill-opacity=\"1\" /><path clip-path=\"url(#clip490)\" d=\"M249.285 294.487 L238.707 305.112 L249.285 315.69 L246.531 318.491 L235.906 307.866 L225.281 318.491 L222.55 315.69 L233.105 305.112 L222.55 294.487 L225.281 291.686 L235.906 302.311 L246.531 291.686 L249.285 294.487 Z\" fill=\"#000000\" fill-rule=\"nonzero\" fill-opacity=\"1\" /><path clip-path=\"url(#clip490)\" d=\"M261.647 316.015 L269.285 316.015 L269.285 289.649 L260.975 291.316 L260.975 287.056 L269.239 285.39 L273.915 285.39 L273.915 316.015 L281.554 316.015 L281.554 319.95 L261.647 319.95 L261.647 316.015 Z\" fill=\"#000000\" fill-rule=\"nonzero\" fill-opacity=\"1\" /><path clip-path=\"url(#clip490)\" d=\"M300.998 288.468 Q297.387 288.468 295.558 292.033 Q293.753 295.575 293.753 302.704 Q293.753 309.811 295.558 313.376 Q297.387 316.917 300.998 316.917 Q304.632 316.917 306.438 313.376 Q308.267 309.811 308.267 302.704 Q308.267 295.575 306.438 292.033 Q304.632 288.468 300.998 288.468 M300.998 284.765 Q306.808 284.765 309.864 289.371 Q312.943 293.954 312.943 302.704 Q312.943 311.431 309.864 316.038 Q306.808 320.621 300.998 320.621 Q295.188 320.621 292.109 316.038 Q289.054 311.431 289.054 302.704 Q289.054 293.954 292.109 289.371 Q295.188 284.765 300.998 284.765 Z\" fill=\"#000000\" fill-rule=\"nonzero\" fill-opacity=\"1\" /><path clip-path=\"url(#clip490)\" d=\"M314.748 291.956 L314.748 288.496 Q316.177 289.173 317.644 289.53 Q319.111 289.887 320.522 289.887 Q324.284 289.887 326.258 287.367 Q328.252 284.828 328.534 279.675 Q327.443 281.292 325.769 282.157 Q324.096 283.023 322.064 283.023 Q317.851 283.023 315.388 280.484 Q312.943 277.926 312.943 273.506 Q312.943 269.18 315.5 266.566 Q318.058 263.952 322.309 263.952 Q327.18 263.952 329.738 267.694 Q332.315 271.418 332.315 278.528 Q332.315 285.167 329.155 289.135 Q326.014 293.085 320.691 293.085 Q319.262 293.085 317.795 292.803 Q316.328 292.521 314.748 291.956 M322.309 280.051 Q324.867 280.051 326.352 278.302 Q327.857 276.553 327.857 273.506 Q327.857 270.478 326.352 268.729 Q324.867 266.961 322.309 266.961 Q319.751 266.961 318.246 268.729 Q316.761 270.478 316.761 273.506 Q316.761 276.553 318.246 278.302 Q319.751 280.051 322.309 280.051 Z\" fill=\"#000000\" fill-rule=\"nonzero\" fill-opacity=\"1\" /><path clip-path=\"url(#clip490)\" d=\"M14.479 788.318 L19.3487 788.318 L19.3487 793.92 Q19.3487 797.071 20.6219 798.312 Q21.895 799.522 25.2052 799.522 L28.3562 799.522 L28.3562 789.877 L32.9077 789.877 L32.9077 799.522 L64.0042 799.522 L64.0042 805.41 L32.9077 805.41 L32.9077 811.012 L28.3562 811.012 L28.3562 805.41 L25.8736 805.41 Q19.9216 805.41 17.2162 802.641 Q14.479 799.872 14.479 793.856 L14.479 788.318 Z\" fill=\"#000000\" fill-rule=\"nonzero\" fill-opacity=\"1\" /><path clip-path=\"url(#clip490)\" d=\"M14.479 783.416 L14.479 777.56 L64.0042 777.56 L64.0042 783.416 L14.479 783.416 Z\" fill=\"#000000\" fill-rule=\"nonzero\" fill-opacity=\"1\" /><path clip-path=\"url(#clip490)\" d=\"M32.4621 751.492 Q32.4621 756.203 36.1542 758.94 Q39.8145 761.677 46.212 761.677 Q52.6095 761.677 56.3017 758.972 Q59.9619 756.235 59.9619 751.492 Q59.9619 746.813 56.2698 744.076 Q52.5777 741.339 46.212 741.339 Q39.8781 741.339 36.186 744.076 Q32.4621 746.813 32.4621 751.492 M27.4968 751.492 Q27.4968 743.853 32.4621 739.493 Q37.4273 735.132 46.212 735.132 Q54.9649 735.132 59.9619 739.493 Q64.9272 743.853 64.9272 751.492 Q64.9272 759.163 59.9619 763.523 Q54.9649 767.852 46.212 767.852 Q37.4273 767.852 32.4621 763.523 Q27.4968 759.163 27.4968 751.492 Z\" fill=\"#000000\" fill-rule=\"nonzero\" fill-opacity=\"1\" /><path clip-path=\"url(#clip490)\" d=\"M58.657 719.759 L77.5631 719.759 L77.5631 725.647 L28.3562 725.647 L28.3562 719.759 L33.7671 719.759 Q30.5842 717.913 29.0564 715.112 Q27.4968 712.28 27.4968 708.365 Q27.4968 701.872 32.6531 697.829 Q37.8093 693.755 46.212 693.755 Q54.6147 693.755 59.771 697.829 Q64.9272 701.872 64.9272 708.365 Q64.9272 712.28 63.3994 715.112 Q61.8398 717.913 58.657 719.759 M46.212 699.835 Q39.7508 699.835 36.0905 702.508 Q32.3984 705.15 32.3984 709.797 Q32.3984 714.444 36.0905 717.117 Q39.7508 719.759 46.212 719.759 Q52.6732 719.759 56.3653 717.117 Q60.0256 714.444 60.0256 709.797 Q60.0256 705.15 56.3653 702.508 Q52.6732 699.835 46.212 699.835 Z\" fill=\"#000000\" fill-rule=\"nonzero\" fill-opacity=\"1\" /><path clip-path=\"url(#clip490)\" d=\"M29.4065 661.322 L34.9447 661.322 Q33.6716 663.805 33.035 666.478 Q32.3984 669.152 32.3984 672.016 Q32.3984 676.377 33.7352 678.573 Q35.072 680.737 37.7456 680.737 Q39.7826 680.737 40.9603 679.178 Q42.1061 677.618 43.1565 672.908 L43.6021 670.902 Q44.9389 664.664 47.3897 662.054 Q49.8086 659.412 54.1691 659.412 Q59.1344 659.412 62.0308 663.359 Q64.9272 667.274 64.9272 674.149 Q64.9272 677.013 64.3543 680.133 Q63.8132 683.22 62.6992 686.658 L56.6518 686.658 Q58.3387 683.411 59.198 680.26 Q60.0256 677.109 60.0256 674.022 Q60.0256 669.884 58.6251 667.656 Q57.1929 665.428 54.6147 665.428 Q52.2276 665.428 50.9545 667.051 Q49.6813 668.643 48.5037 674.085 L48.0262 676.122 Q46.8804 681.565 44.5251 683.984 Q42.138 686.403 38.0002 686.403 Q32.9713 686.403 30.2341 682.838 Q27.4968 679.273 27.4968 672.717 Q27.4968 669.47 27.9743 666.606 Q28.4517 663.741 29.4065 661.322 Z\" fill=\"#000000\" fill-rule=\"nonzero\" fill-opacity=\"1\" /><polyline clip-path=\"url(#clip492)\" style=\"stroke:#009af9; stroke-linecap:round; stroke-linejoin:round; stroke-width:4; stroke-opacity:1; fill:none\" points=\"424.478,1384.24 632.491,1384.24 840.503,1384.24 1048.52,1384.23 1256.53,1384.2 1464.54,1383.92 1672.55,1381.7 1880.57,1363.96 2088.58,1221.98 2296.59,86.1857 \"/>\n",
       "<path clip-path=\"url(#clip490)\" d=\"M434.463 196.789 L743.161 196.789 L743.161 93.1086 L434.463 93.1086  Z\" fill=\"#ffffff\" fill-rule=\"evenodd\" fill-opacity=\"1\"/>\n",
       "<polyline clip-path=\"url(#clip490)\" style=\"stroke:#000000; stroke-linecap:round; stroke-linejoin:round; stroke-width:4; stroke-opacity:1; fill:none\" points=\"434.463,196.789 743.161,196.789 743.161,93.1086 434.463,93.1086 434.463,196.789 \"/>\n",
       "<polyline clip-path=\"url(#clip490)\" style=\"stroke:#009af9; stroke-linecap:round; stroke-linejoin:round; stroke-width:4; stroke-opacity:1; fill:none\" points=\"456.512,144.949 588.808,144.949 \"/>\n",
       "<path clip-path=\"url(#clip490)\" d=\"M627.362 126.21 L627.362 129.752 L623.288 129.752 Q620.996 129.752 620.093 130.678 Q619.214 131.604 619.214 134.011 L619.214 136.303 L626.228 136.303 L626.228 139.613 L619.214 139.613 L619.214 162.229 L614.931 162.229 L614.931 139.613 L610.857 139.613 L610.857 136.303 L614.931 136.303 L614.931 134.497 Q614.931 130.169 616.945 128.201 Q618.959 126.21 623.334 126.21 L627.362 126.21 Z\" fill=\"#000000\" fill-rule=\"nonzero\" fill-opacity=\"1\" /><path clip-path=\"url(#clip490)\" d=\"M630.927 126.21 L635.186 126.21 L635.186 162.229 L630.927 162.229 L630.927 126.21 Z\" fill=\"#000000\" fill-rule=\"nonzero\" fill-opacity=\"1\" /><path clip-path=\"url(#clip490)\" d=\"M654.144 139.289 Q650.718 139.289 648.728 141.974 Q646.737 144.636 646.737 149.289 Q646.737 153.942 648.704 156.627 Q650.695 159.289 654.144 159.289 Q657.547 159.289 659.538 156.604 Q661.528 153.918 661.528 149.289 Q661.528 144.682 659.538 141.997 Q657.547 139.289 654.144 139.289 M654.144 135.678 Q659.7 135.678 662.871 139.289 Q666.042 142.9 666.042 149.289 Q666.042 155.655 662.871 159.289 Q659.7 162.9 654.144 162.9 Q648.566 162.9 645.394 159.289 Q642.246 155.655 642.246 149.289 Q642.246 142.9 645.394 139.289 Q648.566 135.678 654.144 135.678 Z\" fill=\"#000000\" fill-rule=\"nonzero\" fill-opacity=\"1\" /><path clip-path=\"url(#clip490)\" d=\"M677.223 158.34 L677.223 172.09 L672.94 172.09 L672.94 136.303 L677.223 136.303 L677.223 140.238 Q678.565 137.923 680.602 136.812 Q682.663 135.678 685.51 135.678 Q690.232 135.678 693.172 139.428 Q696.135 143.178 696.135 149.289 Q696.135 155.4 693.172 159.15 Q690.232 162.9 685.51 162.9 Q682.663 162.9 680.602 161.789 Q678.565 160.655 677.223 158.34 M691.713 149.289 Q691.713 144.59 689.769 141.928 Q687.848 139.243 684.468 139.243 Q681.088 139.243 679.144 141.928 Q677.223 144.59 677.223 149.289 Q677.223 153.988 679.144 156.673 Q681.088 159.335 684.468 159.335 Q687.848 159.335 689.769 156.673 Q691.713 153.988 691.713 149.289 Z\" fill=\"#000000\" fill-rule=\"nonzero\" fill-opacity=\"1\" /><path clip-path=\"url(#clip490)\" d=\"M719.723 137.067 L719.723 141.094 Q717.917 140.169 715.973 139.706 Q714.028 139.243 711.945 139.243 Q708.774 139.243 707.176 140.215 Q705.602 141.187 705.602 143.131 Q705.602 144.613 706.736 145.469 Q707.871 146.303 711.297 147.067 L712.755 147.391 Q717.292 148.363 719.19 150.145 Q721.111 151.905 721.111 155.076 Q721.111 158.687 718.241 160.793 Q715.394 162.9 710.394 162.9 Q708.311 162.9 706.042 162.483 Q703.797 162.09 701.297 161.28 L701.297 156.881 Q703.658 158.108 705.949 158.733 Q708.241 159.335 710.486 159.335 Q713.496 159.335 715.116 158.317 Q716.736 157.275 716.736 155.4 Q716.736 153.664 715.556 152.738 Q714.398 151.812 710.44 150.956 L708.959 150.608 Q705 149.775 703.241 148.062 Q701.482 146.326 701.482 143.317 Q701.482 139.659 704.074 137.669 Q706.667 135.678 711.436 135.678 Q713.797 135.678 715.88 136.025 Q717.963 136.372 719.723 137.067 Z\" fill=\"#000000\" fill-rule=\"nonzero\" fill-opacity=\"1\" /></svg>\n"
      ]
     },
     "execution_count": 10,
     "metadata": {},
     "output_type": "execute_result"
    }
   ],
   "source": [
    "plot(flops, label=\"flops\", xlabel=\"log2(n)\", ylabel=\"flops\")"
   ]
  },
  {
   "cell_type": "code",
   "execution_count": null,
   "id": "70e73179-0745-4999-bd98-71dbae0c1a28",
   "metadata": {},
   "outputs": [],
   "source": []
  }
 ],
 "metadata": {
  "kernelspec": {
   "display_name": "Julia 1.8.5",
   "language": "julia",
   "name": "julia-1.8"
  },
  "language_info": {
   "file_extension": ".jl",
   "mimetype": "application/julia",
   "name": "julia",
   "version": "1.8.5"
  }
 },
 "nbformat": 4,
 "nbformat_minor": 5
}
