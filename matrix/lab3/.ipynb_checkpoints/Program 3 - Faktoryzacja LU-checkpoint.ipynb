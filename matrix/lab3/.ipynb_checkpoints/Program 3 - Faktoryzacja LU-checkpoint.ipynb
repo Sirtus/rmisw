{
 "cells": [
  {
   "cell_type": "markdown",
   "id": "6f54ce23",
   "metadata": {},
   "source": [
    "\\makeatletter\n",
    "\\renewcommand{\\@seccntformat}[1]{}\n",
    "\\makeatother"
   ]
  },
  {
   "cell_type": "markdown",
   "id": "578a8c8c",
   "metadata": {},
   "source": [
    "<center>\n",
    "### Autorzy: Maciej Czyjt, Tomasz Słonina\n",
    "</center>"
   ]
  },
  {
   "cell_type": "markdown",
   "id": "d25933c4",
   "metadata": {},
   "source": [
    "Dołączenie potrzebnych bibliotek:"
   ]
  },
  {
   "cell_type": "markdown",
   "id": "192c02d4",
   "metadata": {},
   "source": [
    "``` julia\n",
    "using LinearAlgebra\n",
    "```"
   ]
  },
  {
   "cell_type": "markdown",
   "id": "2e4eae84",
   "metadata": {},
   "source": [
    "Plik $matrix\\_utils.jl$ zawiera funkcje z poprzednich programów, potrzebne do zrealizowania faktoryzacji: rekurencyjne mnożenie oraz odwracanie macierzy."
   ]
  },
  {
   "cell_type": "markdown",
   "id": "b512f03b",
   "metadata": {},
   "source": [
    "``` julia\n",
    "include(\"matrix_utils.jl\")\n",
    "```"
   ]
  },
  {
   "cell_type": "markdown",
   "id": "871ca63e",
   "metadata": {},
   "source": [
    "## $LU$ Factorization"
   ]
  },
  {
   "cell_type": "markdown",
   "id": "ed6f666f",
   "metadata": {},
   "source": [
    "Implementację faktoryzacji LU opisuje pseudokod:\n",
    "\n",
    "```\n",
    "// input: A\n",
    "// output: L, U\n",
    "\n",
    "function lu_factor_algorithm(A, L, U) {    \n",
    "    if (A.size > 2) {\n",
    "        a11, a12, a21, a22 = A[range_A].slice_into_quarters();\n",
    "        L11, U11 = lu_factor_algorithm(a11);\n",
    "        L21 = a21 × inverse(U11);\n",
    "        U12 = inverse(L11) × a12;\n",
    "        \n",
    "        S = a22 - (a21 × inverse(U11) × inverse(L11) × a12);\n",
    "        \n",
    "        L22, U22 = lu_factor_algorithm(S);\n",
    "    } else {\n",
    "        L, U = lu(A);\n",
    "    }\n",
    "}\n",
    "```"
   ]
  },
  {
   "cell_type": "markdown",
   "id": "cd69f7b8",
   "metadata": {},
   "source": [
    "Poniżej właściwa implementacja:"
   ]
  },
  {
   "cell_type": "markdown",
   "id": "d9573298",
   "metadata": {},
   "source": [
    "``` julia\n",
    "function lu_factorization(A)\n",
    "    len = size(A, 1)\n",
    "    L = zeros(len, len)\n",
    "    U = zeros(len, len)\n",
    "    lu_factorization_(A, L, U)\n",
    "    return L, U\n",
    "end\n",
    "\n",
    "\n",
    "function lu_factorization_(A, L, U)\n",
    "    if size(A, 1) == 2\n",
    "        l, u = lu(A, NoPivot())\n",
    "        L[:, :] = l\n",
    "        U[:, :] = u\n",
    "        return\n",
    "    end\n",
    "    len = (size(A, 1) ÷ 2)\n",
    "    a11 = [1:len, 1:len]\n",
    "    a12 = [1:len, len+1:len*2]\n",
    "    a21 = [len+1:len*2, 1:len]\n",
    "    a22 = [len+1:len*2, len+1:len*2]\n",
    "\n",
    "    L11, U11 = lu_factorization(A[a11...])\n",
    "    inv_U11 = my_inv(U11)\n",
    "    inv_L11 = my_inv(L11)\n",
    "\n",
    "    L21 = multiply_rec(A[a21...], inv_U11)\n",
    "    U12 = multiply_rec(inv_L11, A[a12...])\n",
    "    S = A[a22...] - multiply_rec(\n",
    "        A[a21...], \n",
    "        multiply_rec(\n",
    "            inv_U11, \n",
    "            multiply_rec(\n",
    "                inv_L11,\n",
    "                A[a12...]\n",
    "            )\n",
    "        )\n",
    "    )\n",
    "    L22, U22 = lu_factorization(S)\n",
    "\n",
    "    L[a11...] = L11\n",
    "    L[a21...] = L21\n",
    "    L[a22...] = L22\n",
    "    U[a11...] = U11\n",
    "    U[a12...] = U12\n",
    "    U[a22...] = U22\n",
    "end\n",
    "```"
   ]
  },
  {
   "cell_type": "markdown",
   "id": "c5e4876b",
   "metadata": {},
   "source": [
    "## Testy"
   ]
  },
  {
   "cell_type": "markdown",
   "id": "460428cd",
   "metadata": {},
   "source": [
    "Funkcja służąca do testowania implementacji:"
   ]
  },
  {
   "cell_type": "markdown",
   "id": "57cf2bc2",
   "metadata": {},
   "source": [
    "``` julia\n",
    "function test_lu(N)\n",
    "    for n in 1:N\n",
    "        A = rand(2^n, 2^n)\n",
    "        L, U = lu_factorization(A)\n",
    "        if isapprox(A, L * U)\n",
    "            println(\"Test passed for matrix of size \", 2^n, \"x\", 2^n)\n",
    "        else\n",
    "            println(\"Test failed for matrix of size \", 2^n, \"x\", 2^n)\n",
    "        end\n",
    "    end\n",
    "end\n",
    "\n",
    "test_lu(9)\n",
    "```"
   ]
  },
  {
   "cell_type": "markdown",
   "id": "f222c7a3",
   "metadata": {},
   "source": [
    "Poniżej zostało przedstawione porównanie wyników zaimplementowanej faktoryzaji oraz wersji bibliotecznej. Brane pod uwagę były macierze o rozmiarze $2^k$, dla parametru $k = 1, 2, ..., 9$."
   ]
  },
  {
   "cell_type": "markdown",
   "id": "32f1af5e",
   "metadata": {},
   "source": [
    "``` julia\n",
    "function lu_det(A)\n",
    "    L, U = lu_factorization(A)\n",
    "    det = 1\n",
    "    for i in 1:size(A, 1)\n",
    "        det *= L[i, i] * U[i, i]\n",
    "    end\n",
    "    return det\n",
    "end\n",
    "\n",
    "lu_dets = []\n",
    "true_dets = []\n",
    "\n",
    "N = 9\n",
    "for n in 1:N\n",
    "    A = rand(2^n, 2^n)\n",
    "    push!(lu_dets, lu_det(A))\n",
    "    push!(true_dets, det(A))\n",
    "end\n",
    "```"
   ]
  },
  {
   "cell_type": "markdown",
   "id": "08ddb8de",
   "metadata": {},
   "source": [
    "``` julia\n",
    "using PlotlyJS\n",
    "\n",
    "plot(\n",
    "    table(\n",
    "        header_values=[\"N\", \"LU det\", \"Julia det\", \"Error\"],\n",
    "        cells_values=[\n",
    "            2 .^ (1:N),\n",
    "            lu_dets,\n",
    "            true_dets,\n",
    "            abs.(lu_dets .- true_dets)\n",
    "        ]\n",
    "    )\n",
    ")\n",
    "```"
   ]
  },
  {
   "attachments": {},
   "cell_type": "markdown",
   "id": "6760d5d1",
   "metadata": {},
   "source": [
    "<!-- ![newplot.png](attachment:newplot.png) -->\n",
    " \\includegraphics{newplot.png}"
   ]
  },
  {
   "cell_type": "markdown",
   "id": "0ef4e457",
   "metadata": {},
   "source": [
    "### Wykres czasu (w sekundach), potrzebnego do obliczenia macierzy $L$ oraz $U$ w zależności od parametru $k$."
   ]
  },
  {
   "cell_type": "markdown",
   "id": "2ca66e60",
   "metadata": {},
   "source": [
    "``` julia\n",
    "function test_time_lu(n)\n",
    "    times = zeros(n)\n",
    "    flops = zeros(n)\n",
    "    for i in 1:n\n",
    "        A = rand(2^i, 2^i)\n",
    "        global FLOPS = 0\n",
    "        times[i] = @elapsed lu_factorization(A)\n",
    "        flops[i] = FLOPS\n",
    "        println(\"n=$i, time=$(times[i]), flops=$(flops[i])\")\n",
    "    end\n",
    "    return times, flops\n",
    "end\n",
    "\n",
    "times, flops = test_time_lu(9)\n",
    "```"
   ]
  },
  {
   "cell_type": "raw",
   "id": "6f87f977",
   "metadata": {},
   "source": [
    "plot(times, label=\"time\", xlabel=\"log2(n)\", ylabel=\"time (s)\")\n"
   ]
  },
  {
   "cell_type": "markdown",
   "id": "5d9c6d17",
   "metadata": {},
   "source": []
  },
  {
   "attachments": {},
   "cell_type": "markdown",
   "id": "bd59ae0c",
   "metadata": {},
   "source": [
    "\\includegraphics{newplot(2).png}"
   ]
  },
  {
   "cell_type": "markdown",
   "id": "c0ad3df3",
   "metadata": {},
   "source": [
    "### Wykres ilości operacji zmiennoprzecinkowych, potrzebnych do obliczenia macierzy $L$ oraz $U$ w zależności od parametru $k$."
   ]
  },
  {
   "cell_type": "raw",
   "id": "49ed9c8c",
   "metadata": {},
   "source": [
    "plot(flops, label=\"flops\", xlabel=\"log2(n)\", ylabel=\"flops\")"
   ]
  },
  {
   "cell_type": "markdown",
   "id": "fa68d19a",
   "metadata": {},
   "source": []
  },
  {
   "attachments": {},
   "cell_type": "markdown",
   "id": "d9b2d30c",
   "metadata": {},
   "source": [
    "\\includegraphics{newplot(3).png}"
   ]
  },
  {
   "cell_type": "markdown",
   "id": "d944b12b",
   "metadata": {},
   "source": [
    "## Wnioski:\n",
    "\n",
    "Własna implementacja dobrze sprawdza się dla małych rozmiarów macierzy (to jest mniejszych niż $64 \\times 64$). Dla większych błąd jest na tyle duży, że może powodować błędy w obliczeniach. Do zastosowań profesjonalnych należy wybierać wersję biblioteczną ze względu na liczne opytmalizacje oraz użycie mechanizmów, dzięki którym algorytm ten jest stabilny numerycznie."
   ]
  }
 ],
 "metadata": {
  "@webio": {
   "lastCommId": null,
   "lastKernelId": null
  },
  "kernelspec": {
   "display_name": "Python 3 (ipykernel)",
   "language": "python",
   "name": "python3"
  },
  "language_info": {
   "codemirror_mode": {
    "name": "ipython",
    "version": 3
   },
   "file_extension": ".py",
   "mimetype": "text/x-python",
   "name": "python",
   "nbconvert_exporter": "python",
   "pygments_lexer": "ipython3",
   "version": "3.10.6"
  }
 },
 "nbformat": 4,
 "nbformat_minor": 5
}
