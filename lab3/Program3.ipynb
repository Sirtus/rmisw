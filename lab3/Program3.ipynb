{
   "cells": [
      {
         "cell_type": "code",
         "execution_count": 19,
         "id": "436fc3bc",
         "metadata": {},
         "outputs": [
            {
               "data": {
                  "text/plain": [
                     "my_inv (generic function with 1 method)"
                  ]
               },
               "metadata": {},
               "output_type": "display_data"
            }
         ],
         "source": [
            "using LinearAlgebra\n",
            "include(\"matrix_utils.jl\")"
         ]
      },
      {
         "cell_type": "code",
         "execution_count": 77,
         "id": "9b9d1ee5",
         "metadata": {},
         "outputs": [
            {
               "data": {
                  "text/plain": [
                     "lu_factorization_ (generic function with 1 method)"
                  ]
               },
               "metadata": {},
               "output_type": "display_data"
            }
         ],
         "source": [
            "function lu_factorization(A)\n",
            "    len = size(A, 1)\n",
            "    L = zeros(len, len)\n",
            "    U = zeros(len, len)\n",
            "    lu_factorization_(A, L, U)\n",
            "    return L, U\n",
            "end\n",
            "\n",
            "\n",
            "function lu_factorization_(A, L, U)\n",
            "    if size(A, 1) == 2\n",
            "        l, u = lu(A, NoPivot())\n",
            "        L[:, :] = l\n",
            "        U[:, :] = u\n",
            "        return\n",
            "    end\n",
            "    len = (size(A, 1) ÷ 2)\n",
            "    a11 = [1:len, 1:len]\n",
            "    a12 = [1:len, len+1:len*2]\n",
            "    a21 = [len+1:len*2, 1:len]\n",
            "    a22 = [len+1:len*2, len+1:len*2]\n",
            "\n",
            "    L11, U11 = lu_factorization(A[a11...])\n",
            "    inv_U11 = my_inv(U11)\n",
            "    inv_L11 = my_inv(L11)\n",
            "\n",
            "    L21 = multiply_rec(A[a21...], inv_U11)\n",
            "    U12 = multiply_rec(inv_L11, A[a12...])\n",
            "    S = A[a22...] - multiply_rec(\n",
            "        A[a21...], \n",
            "        multiply_rec(\n",
            "            inv_U11, \n",
            "            multiply_rec(\n",
            "                inv_L11,\n",
            "                A[a12...]\n",
            "            )\n",
            "        )\n",
            "    )\n",
            "    L22, U22 = lu_factorization(S)\n",
            "\n",
            "    L[a11...] = L11\n",
            "    L[a21...] = L21\n",
            "    L[a22...] = L22\n",
            "    U[a11...] = U11\n",
            "    U[a12...] = U12\n",
            "    U[a22...] = U22\n",
            "end"
         ]
      },
      {
         "cell_type": "code",
         "execution_count": 85,
         "id": "4453d77a",
         "metadata": {},
         "outputs": [
            {
               "name": "stdout",
               "output_type": "stream",
               "text": [
                  "Test passed for matrix of size 2x2\n",
                  "Test passed for matrix of size 4x4\n",
                  "Test passed for matrix of size 8x8\n",
                  "Test passed for matrix of size 16x16\n",
                  "Test passed for matrix of size 32x32\n",
                  "Test passed for matrix of size "
               ]
            },
            {
               "name": "stdout",
               "output_type": "stream",
               "text": [
                  "64x64\n"
               ]
            },
            {
               "name": "stdout",
               "output_type": "stream",
               "text": [
                  "Test passed for matrix of size 128x128\n",
                  "Test passed for matrix of size "
               ]
            },
            {
               "name": "stdout",
               "output_type": "stream",
               "text": [
                  "256x256\n"
               ]
            },
            {
               "name": "stdout",
               "output_type": "stream",
               "text": [
                  "Test passed for matrix of size 512x512\n"
               ]
            }
         ],
         "source": [
            "function test_lu(N)\n",
            "    for n in 1:N\n",
            "        A = rand(2^n, 2^n)\n",
            "        L, U = lu_factorization(A)\n",
            "        if isapprox(A, L * U)\n",
            "            println(\"Test passed for matrix of size \", 2^n, \"x\", 2^n)\n",
            "        else\n",
            "            println(\"Test failed for matrix of size \", 2^n, \"x\", 2^n)\n",
            "        end\n",
            "    end\n",
            "end\n",
            "\n",
            "test_lu(9)"
         ]
      },
      {
         "cell_type": "code",
         "execution_count": null,
         "id": "ed835c9c",
         "metadata": {},
         "outputs": [],
         "source": []
      }
   ],
   "metadata": {
      "kernelspec": {
         "display_name": "Julia 1.8.5",
         "language": "julia",
         "name": "julia-1.8"
      },
      "language_info": {
         "file_extension": ".jl",
         "mimetype": "application/julia",
         "name": "julia",
         "version": "1.8.5"
      }
   },
   "nbformat": 4,
   "nbformat_minor": 5
}
